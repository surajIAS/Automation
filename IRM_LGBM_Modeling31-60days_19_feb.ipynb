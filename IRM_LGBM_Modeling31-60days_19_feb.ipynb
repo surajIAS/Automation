{
 "cells": [
  {
   "cell_type": "code",
   "execution_count": 1,
   "metadata": {},
   "outputs": [
    {
     "name": "stderr",
     "output_type": "stream",
     "text": [
      "/home/analytics/anaconda3/lib/python3.7/site-packages/tqdm/std.py:658: FutureWarning: The Panel class is removed from pandas. Accessing it from the top-level namespace will also be removed in the next version\n",
      "  from pandas import Panel\n"
     ]
    }
   ],
   "source": [
    "#importing all libraries\n",
    "import pandas as pd\n",
    "import numpy as np\n",
    "import matplotlib.pyplot as plt\n",
    "from sklearn.model_selection import train_test_split\n",
    "from sklearn.model_selection import cross_val_score,StratifiedKFold\n",
    "from sklearn.metrics import roc_curve, auc\n",
    "from sklearn.metrics import classification_report,confusion_matrix,roc_auc_score\n",
    "from sklearn.utils import resample \n",
    "import lightgbm as lgb\n",
    "from tqdm import tqdm\n",
    "import random\n",
    "from datetime import date,timedelta\n",
    "from datetime import datetime\n",
    "from tqdm import tqdm\n",
    "import pickle\n",
    "tqdm.pandas()\n",
    "import gc"
   ]
  },
  {
   "cell_type": "code",
   "execution_count": 2,
   "metadata": {},
   "outputs": [],
   "source": [
    "df=pd.read_csv('IRM_31_60_days_modeling_data_left_join.csv')\n",
    "cus_pmt_data=pd.read_csv('Customer_profiling_ratio.csv')"
   ]
  },
  {
   "cell_type": "code",
   "execution_count": 3,
   "metadata": {},
   "outputs": [
    {
     "data": {
      "text/plain": [
       "((250520, 10), (333170, 48))"
      ]
     },
     "execution_count": 3,
     "metadata": {},
     "output_type": "execute_result"
    }
   ],
   "source": [
    "cus_pmt_data.shape,df.shape"
   ]
  },
  {
   "cell_type": "code",
   "execution_count": 4,
   "metadata": {},
   "outputs": [],
   "source": [
    "#merging customer ratio data with qelinquency data \n",
    "df=df.merge(cus_pmt_data[['Customer Number','Ratio of Invoices Paid 31-60 Days']],how='left',on='Customer Number')"
   ]
  },
  {
   "cell_type": "code",
   "execution_count": 5,
   "metadata": {},
   "outputs": [],
   "source": [
    "df=df.fillna(0)"
   ]
  },
  {
   "cell_type": "code",
   "execution_count": 6,
   "metadata": {},
   "outputs": [
    {
     "data": {
      "text/plain": [
       "NOT PAID    228027\n",
       "PAID        105143\n",
       "Name: Payment Flag, dtype: int64"
      ]
     },
     "execution_count": 6,
     "metadata": {},
     "output_type": "execute_result"
    }
   ],
   "source": [
    "df['Payment Flag'].value_counts()"
   ]
  },
  {
   "cell_type": "code",
   "execution_count": 7,
   "metadata": {},
   "outputs": [
    {
     "data": {
      "text/plain": [
       "(333170, 49)"
      ]
     },
     "execution_count": 7,
     "metadata": {},
     "output_type": "execute_result"
    }
   ],
   "source": [
    "df.shape"
   ]
  },
  {
   "cell_type": "code",
   "execution_count": 8,
   "metadata": {},
   "outputs": [],
   "source": [
    "def dollar_conversion_invoice_amount(data):\n",
    "    if data['Region']=='US':\n",
    "        return data['Invoice Amount']\n",
    "    else:\n",
    "        return data['Invoice Amount']*0.75"
   ]
  },
  {
   "cell_type": "code",
   "execution_count": 9,
   "metadata": {},
   "outputs": [],
   "source": [
    "def dollar_conversion_total_past_due(data):\n",
    "    if data['Region']=='US':\n",
    "        return data['Total Past Due']\n",
    "    else:\n",
    "        return data['Total Past Due']*0.75"
   ]
  },
  {
   "cell_type": "code",
   "execution_count": 10,
   "metadata": {},
   "outputs": [
    {
     "name": "stderr",
     "output_type": "stream",
     "text": [
      "100%|██████████| 333170/333170 [00:09<00:00, 33488.33it/s]\n",
      "100%|██████████| 333170/333170 [00:09<00:00, 33791.22it/s]\n"
     ]
    }
   ],
   "source": [
    "#converting CAD Doller TO USD Doller\n",
    "df['Invoice Amount']=df.progress_apply(lambda x:dollar_conversion_invoice_amount(x),axis=1)\n",
    "df['Total Past Due']=df.progress_apply(lambda x:dollar_conversion_total_past_due(x),axis=1)"
   ]
  },
  {
   "cell_type": "code",
   "execution_count": 11,
   "metadata": {},
   "outputs": [],
   "source": [
    "# creating label column based upon payment flag column\n",
    "df['label']=df['Payment Flag'].apply(lambda x: 1 if x=='NOT PAID' else 0)\n",
    "df=df.drop(['Payment Flag'],axis=1).reset_index(drop=True)"
   ]
  },
  {
   "cell_type": "code",
   "execution_count": 12,
   "metadata": {},
   "outputs": [
    {
     "data": {
      "text/plain": [
       "1    228027\n",
       "0    105143\n",
       "Name: label, dtype: int64"
      ]
     },
     "execution_count": 12,
     "metadata": {},
     "output_type": "execute_result"
    }
   ],
   "source": [
    "df['label'].value_counts()"
   ]
  },
  {
   "cell_type": "code",
   "execution_count": 13,
   "metadata": {},
   "outputs": [
    {
     "data": {
      "text/plain": [
       "(333170, 49)"
      ]
     },
     "execution_count": 13,
     "metadata": {},
     "output_type": "execute_result"
    }
   ],
   "source": [
    "df.shape"
   ]
  },
  {
   "cell_type": "code",
   "execution_count": 14,
   "metadata": {},
   "outputs": [],
   "source": [
    "#taking the subset of dataset\n",
    "df=df[['Invoice Amount', 'Total Past Due', 'Invoice Count','Month',\n",
    "      '3_Months_WACD','6_Months_WACD', '12_Months_WACD', 'WACD_Since_2019','Ratio of Invoices Paid 31-60 Days',\n",
    "       '3Months_Number of Invoices Paid 31-60 Days','6Months_Number of Invoices Paid 31-60 Days','label']]"
   ]
  },
  {
   "cell_type": "code",
   "execution_count": 15,
   "metadata": {},
   "outputs": [],
   "source": [
    "# Removing Duplicate Data\n",
    "df=df.drop_duplicates()\n",
    "df.reset_index(drop=True,inplace=True)"
   ]
  },
  {
   "cell_type": "code",
   "execution_count": 16,
   "metadata": {},
   "outputs": [
    {
     "data": {
      "text/plain": [
       "(309431, 12)"
      ]
     },
     "execution_count": 16,
     "metadata": {},
     "output_type": "execute_result"
    }
   ],
   "source": [
    "df.shape"
   ]
  },
  {
   "cell_type": "code",
   "execution_count": 17,
   "metadata": {},
   "outputs": [
    {
     "name": "stderr",
     "output_type": "stream",
     "text": [
      "100%|██████████| 309430/309430 [03:26<00:00, 1496.99it/s]\n"
     ]
    }
   ],
   "source": [
    "# Removing Duplicate Data where every column has same value except label\n",
    "index=[]\n",
    "for i in tqdm(range(1,len(df))):\n",
    "    count=0\n",
    "    for j in df.columns[:-1]:\n",
    "        if (df[j][i-1]==df[j][i]) & (df['label'][i-1]!=df['label'][i]):\n",
    "            count+=1\n",
    "    if count==len(df.columns[:-1]):\n",
    "        if (df['label'][i]==1):\n",
    "            index.append(i)\n",
    "        if (df['label'][i-1]==1):\n",
    "            index.append(i-1)   \n",
    "df=df.drop(index)"
   ]
  },
  {
   "cell_type": "code",
   "execution_count": 18,
   "metadata": {},
   "outputs": [],
   "source": [
    "#creating feature variables\n",
    "df['WACD_Diff3']=df['3_Months_WACD']-df['6_Months_WACD']\n",
    "df['WACD_Diff6']=df['6_Months_WACD']-df['12_Months_WACD']\n",
    "df['WACD_Diff12']=df['12_Months_WACD']-df['WACD_Since_2019']"
   ]
  },
  {
   "cell_type": "code",
   "execution_count": 19,
   "metadata": {},
   "outputs": [],
   "source": [
    "#taking the subset of dataset\n",
    "data=df[['Invoice Amount', 'Total Past Due','Invoice Count','Month',\n",
    "      '3_Months_WACD','Ratio of Invoices Paid 31-60 Days','WACD_Diff3',\n",
    "         'WACD_Diff6','WACD_Diff12','3Months_Number of Invoices Paid 31-60 Days',\n",
    "         '6Months_Number of Invoices Paid 31-60 Days','label']]"
   ]
  },
  {
   "cell_type": "code",
   "execution_count": 20,
   "metadata": {},
   "outputs": [
    {
     "data": {
      "text/plain": [
       "1    208294\n",
       "0     98914\n",
       "Name: label, dtype: int64"
      ]
     },
     "execution_count": 20,
     "metadata": {},
     "output_type": "execute_result"
    }
   ],
   "source": [
    "data['label'].value_counts()"
   ]
  },
  {
   "cell_type": "code",
   "execution_count": 21,
   "metadata": {},
   "outputs": [],
   "source": [
    "# spliting the datat into training set and validation set\n",
    "validation_1=data[data['Month']>202011]\n",
    "training_data=data[data['Month']<202012]\n",
    "validation_1=validation_1.drop(['Month'],axis=1)\n",
    "training_data=training_data.drop('Month',axis=1)"
   ]
  },
  {
   "cell_type": "code",
   "execution_count": 22,
   "metadata": {},
   "outputs": [],
   "source": [
    "#validation dataset\n",
    "validation_2=pd.concat([training_data[training_data['label']==0].sample(500,random_state=42),training_data[training_data['label']==1].sample(500,random_state=42)])\n",
    "\n",
    "training_index=[]\n",
    "for i in training_data.index:\n",
    "    if i not in validation_2.index:\n",
    "        training_index.append(i)\n",
    "\n",
    "#traning dataset\n",
    "training_data=training_data.loc[training_index]\n",
    "\n",
    "#reseting index\n",
    "training_data.reset_index(drop=True,inplace=True)\n",
    "validation_1.reset_index(drop=True,inplace=True)\n",
    "validation_2.reset_index(drop=True,inplace=True)"
   ]
  },
  {
   "cell_type": "code",
   "execution_count": 23,
   "metadata": {},
   "outputs": [
    {
     "data": {
      "text/plain": [
       "(4738, 11)"
      ]
     },
     "execution_count": 23,
     "metadata": {},
     "output_type": "execute_result"
    }
   ],
   "source": [
    "validation_1.shape"
   ]
  },
  {
   "cell_type": "markdown",
   "metadata": {},
   "source": [
    "# Train_Test_Split"
   ]
  },
  {
   "cell_type": "code",
   "execution_count": 24,
   "metadata": {},
   "outputs": [
    {
     "data": {
      "text/plain": [
       "132"
      ]
     },
     "execution_count": 24,
     "metadata": {},
     "output_type": "execute_result"
    }
   ],
   "source": [
    "X=training_data.drop(['label'],axis=1)\n",
    "y=training_data.label\n",
    "\n",
    "X_train, X_test, y_train, y_test = train_test_split(X,y,test_size=0.20,random_state=42)\n",
    "gc.collect()"
   ]
  },
  {
   "cell_type": "markdown",
   "metadata": {},
   "source": [
    "# Light GBM"
   ]
  },
  {
   "cell_type": "markdown",
   "metadata": {},
   "source": [
    "# Non_Balanced"
   ]
  },
  {
   "cell_type": "code",
   "execution_count": 25,
   "metadata": {},
   "outputs": [
    {
     "name": "stdout",
     "output_type": "stream",
     "text": [
      "              precision    recall  f1-score   support\n",
      "\n",
      "           0       0.68      0.58      0.63     19450\n",
      "           1       0.81      0.87      0.84     40844\n",
      "\n",
      "    accuracy                           0.78     60294\n",
      "   macro avg       0.75      0.72      0.73     60294\n",
      "weighted avg       0.77      0.78      0.77     60294\n",
      "\n",
      "[[11273  8177]\n",
      " [ 5304 35540]]\n"
     ]
    }
   ],
   "source": [
    "lgb_estimator = lgb.LGBMClassifier(n_estimators=1000)\n",
    "lgb_estimator.fit(X_train,y_train)\n",
    "y_pred_custom=lgb_estimator.predict(X_test)\n",
    "y_prob_cutoff=lgb_estimator.predict_proba(X_test)[:,1]\n",
    "print(classification_report(y_test,y_pred_custom))\n",
    "print(confusion_matrix(y_test,y_pred_custom))"
   ]
  },
  {
   "cell_type": "code",
   "execution_count": 47,
   "metadata": {},
   "outputs": [],
   "source": [
    "# with open('IRM_31_60_days_model.pkl','wb') as file:\n",
    "#     pickle.dump(lgb_estimator,file)"
   ]
  },
  {
   "cell_type": "code",
   "execution_count": 27,
   "metadata": {},
   "outputs": [],
   "source": [
    "X=X.rename(columns={'Ratio of Invoices Paid 31-60 Days':'Pmt_ratio_of_31_60_days','3Months_Number of Invoices Paid 31-60 Days':'Invoice_Paid_31_60(3M)',\n",
    "                 '6Months_Number of Invoices Paid 31-60 Days':'Invoice_Paid_31_60(6M)'})"
   ]
  },
  {
   "cell_type": "markdown",
   "metadata": {},
   "source": [
    "# Feature Importance(Non_Balanced)"
   ]
  },
  {
   "cell_type": "code",
   "execution_count": 28,
   "metadata": {},
   "outputs": [
    {
     "data": {
      "text/html": [
       "<div>\n",
       "<style scoped>\n",
       "    .dataframe tbody tr th:only-of-type {\n",
       "        vertical-align: middle;\n",
       "    }\n",
       "\n",
       "    .dataframe tbody tr th {\n",
       "        vertical-align: top;\n",
       "    }\n",
       "\n",
       "    .dataframe thead th {\n",
       "        text-align: right;\n",
       "    }\n",
       "</style>\n",
       "<table border=\"1\" class=\"dataframe\">\n",
       "  <thead>\n",
       "    <tr style=\"text-align: right;\">\n",
       "      <th></th>\n",
       "      <th>columns</th>\n",
       "      <th>score</th>\n",
       "    </tr>\n",
       "  </thead>\n",
       "  <tbody>\n",
       "    <tr>\n",
       "      <th>3</th>\n",
       "      <td>3_Months_WACD</td>\n",
       "      <td>4376</td>\n",
       "    </tr>\n",
       "    <tr>\n",
       "      <th>0</th>\n",
       "      <td>Invoice Amount</td>\n",
       "      <td>4111</td>\n",
       "    </tr>\n",
       "    <tr>\n",
       "      <th>4</th>\n",
       "      <td>Pmt_ratio_of_31_60_days</td>\n",
       "      <td>3941</td>\n",
       "    </tr>\n",
       "    <tr>\n",
       "      <th>1</th>\n",
       "      <td>Total Past Due</td>\n",
       "      <td>3536</td>\n",
       "    </tr>\n",
       "    <tr>\n",
       "      <th>6</th>\n",
       "      <td>WACD_Diff6</td>\n",
       "      <td>3535</td>\n",
       "    </tr>\n",
       "    <tr>\n",
       "      <th>5</th>\n",
       "      <td>WACD_Diff3</td>\n",
       "      <td>3195</td>\n",
       "    </tr>\n",
       "    <tr>\n",
       "      <th>7</th>\n",
       "      <td>WACD_Diff12</td>\n",
       "      <td>2920</td>\n",
       "    </tr>\n",
       "    <tr>\n",
       "      <th>2</th>\n",
       "      <td>Invoice Count</td>\n",
       "      <td>2834</td>\n",
       "    </tr>\n",
       "    <tr>\n",
       "      <th>9</th>\n",
       "      <td>Invoice_Paid_31_60(6M)</td>\n",
       "      <td>971</td>\n",
       "    </tr>\n",
       "    <tr>\n",
       "      <th>8</th>\n",
       "      <td>Invoice_Paid_31_60(3M)</td>\n",
       "      <td>581</td>\n",
       "    </tr>\n",
       "  </tbody>\n",
       "</table>\n",
       "</div>"
      ],
      "text/plain": [
       "                   columns  score\n",
       "3            3_Months_WACD   4376\n",
       "0           Invoice Amount   4111\n",
       "4  Pmt_ratio_of_31_60_days   3941\n",
       "1           Total Past Due   3536\n",
       "6               WACD_Diff6   3535\n",
       "5               WACD_Diff3   3195\n",
       "7              WACD_Diff12   2920\n",
       "2            Invoice Count   2834\n",
       "9   Invoice_Paid_31_60(6M)    971\n",
       "8   Invoice_Paid_31_60(3M)    581"
      ]
     },
     "execution_count": 28,
     "metadata": {},
     "output_type": "execute_result"
    }
   ],
   "source": [
    "importance = lgb_estimator.feature_importances_\n",
    "Feature_importances=pd.DataFrame()\n",
    "Feature_importances['columns']=X.columns\n",
    "Feature_importances['score']=importance\n",
    "Feature_importances=Feature_importances.sort_values('score',ascending=False)\n",
    "Feature_importances"
   ]
  },
  {
   "cell_type": "code",
   "execution_count": 29,
   "metadata": {},
   "outputs": [
    {
     "data": {
      "text/plain": [
       "(array([0, 1, 2, 3, 4, 5, 6, 7, 8, 9]), <a list of 10 Text xticklabel objects>)"
      ]
     },
     "execution_count": 29,
     "metadata": {},
     "output_type": "execute_result"
    },
    {
     "data": {
      "image/png": "[encoded data removed]",
      "text/plain": [
       "<Figure size 720x360 with 1 Axes>"
      ]
     },
     "metadata": {
      "needs_background": "light"
     },
     "output_type": "display_data"
    }
   ],
   "source": [
    "import seaborn as sns\n",
    "plt.figure(figsize=(10,5))\n",
    "sns.barplot(Feature_importances['columns'],Feature_importances['score'])\n",
    "plt.xticks(rotation = 45,ha='right')"
   ]
  },
  {
   "cell_type": "markdown",
   "metadata": {},
   "source": [
    "# Validation(Non_Balanced)"
   ]
  },
  {
   "cell_type": "markdown",
   "metadata": {},
   "source": [
    "# validation_1(dec_data)"
   ]
  },
  {
   "cell_type": "code",
   "execution_count": 30,
   "metadata": {},
   "outputs": [
    {
     "name": "stdout",
     "output_type": "stream",
     "text": [
      "              precision    recall  f1-score   support\n",
      "\n",
      "           0       0.49      0.32      0.39      1131\n",
      "           1       0.81      0.90      0.85      3607\n",
      "\n",
      "    accuracy                           0.76      4738\n",
      "   macro avg       0.65      0.61      0.62      4738\n",
      "weighted avg       0.73      0.76      0.74      4738\n",
      "\n",
      "[[ 366  765]\n",
      " [ 377 3230]]\n"
     ]
    }
   ],
   "source": [
    "X_valid1=validation_1.drop(['label'],axis=1)\n",
    "y_valid1=validation_1.label\n",
    "\n",
    "y_val1=lgb_estimator.predict(X_valid1)\n",
    "y_val1_prob=lgb_estimator.predict_proba(X_valid1)[:,1]\n",
    "\n",
    "print(classification_report(y_valid1,y_val1))\n",
    "print(confusion_matrix(y_valid1,y_val1))"
   ]
  },
  {
   "cell_type": "markdown",
   "metadata": {},
   "source": [
    "# validation_2(500-500 sample from each class)"
   ]
  },
  {
   "cell_type": "code",
   "execution_count": 35,
   "metadata": {},
   "outputs": [
    {
     "name": "stdout",
     "output_type": "stream",
     "text": [
      "              precision    recall  f1-score   support\n",
      "\n",
      "           0       0.79      0.58      0.67       500\n",
      "           1       0.67      0.85      0.75       500\n",
      "\n",
      "    accuracy                           0.71      1000\n",
      "   macro avg       0.73      0.71      0.71      1000\n",
      "weighted avg       0.73      0.71      0.71      1000\n",
      "\n",
      "[[291 209]\n",
      " [ 76 424]]\n"
     ]
    }
   ],
   "source": [
    "X_valid2=validation_2.drop(['label'],axis=1)\n",
    "y_valid2=validation_2.label\n",
    "\n",
    "y_val2=lgb_estimator.predict(X_valid2)\n",
    "y_val2_prob=lgb_estimator.predict_proba(X_valid2)[:,1]\n",
    "\n",
    "print(classification_report(y_valid2,y_val2))\n",
    "print(confusion_matrix(y_valid2,y_val2))"
   ]
  },
  {
   "cell_type": "code",
   "execution_count": 36,
   "metadata": {},
   "outputs": [],
   "source": [
    "# def risk_catagory(data):\n",
    "#     if data>=0.906619:\n",
    "#         return 'High'\n",
    "#     elif data<0.906619 and data>=0.707894:\n",
    "#         return 'Medium'\n",
    "#     elif data<0.707894 and data>0.5:\n",
    "#         return 'Low'\n",
    "#     else:\n",
    "#         return 'Very_Low'"
   ]
  },
  {
   "cell_type": "markdown",
   "metadata": {},
   "source": [
    "# Risk catagories dataframe"
   ]
  },
  {
   "cell_type": "code",
   "execution_count": 37,
   "metadata": {},
   "outputs": [],
   "source": [
    "# X_test['Probability']=y_prob_cutoff\n",
    "# X_valid1['Probability']=y_val1_prob\n",
    "# X_valid2['Probability']=y_val2_prob"
   ]
  },
  {
   "cell_type": "code",
   "execution_count": 38,
   "metadata": {},
   "outputs": [],
   "source": [
    "# X_test['Class']=X_test['Probability'].apply(lambda x:risk_catagory(x))\n",
    "# X_valid1['Class']=X_valid1['Probability'].apply(lambda x:risk_catagory(x))\n",
    "# X_valid2['Class']=X_valid2['Probability'].apply(lambda x:risk_catagory(x))"
   ]
  },
  {
   "cell_type": "code",
   "execution_count": 39,
   "metadata": {},
   "outputs": [],
   "source": [
    "# High_Risk_Customer_test=X_test[X_test['Class']=='High'].sort_values('Total Past Due',ascending=False)[['Total Past Due','Probability','Class']].reset_index(drop=True)\n",
    "# Medium_Risk_Customer_test=X_test[X_test['Class']=='Medium'].sort_values('Total Past Due',ascending=False)[['Total Past Due','Probability','Class']].reset_index(drop=True)\n",
    "# Low_Risk_Customer_test=X_test[X_test['Class']=='Low'].sort_values('Total Past Due',ascending=False)[['Total Past Due','Probability','Class']].reset_index(drop=True)\n",
    "# Very_Low_Risk_Customer_test=X_test[X_test['Class']=='Vey_Low'].sort_values('Total Past Due',ascending=False)[['Total Past Due','Probability','Class']].reset_index(drop=True)"
   ]
  },
  {
   "cell_type": "code",
   "execution_count": 40,
   "metadata": {},
   "outputs": [],
   "source": [
    "# High_Risk_Customer_val1=X_valid1[X_valid1['Class']=='High'].sort_values('Total Past Due',ascending=False)[['Total Past Due','Probability','Class']].reset_index(drop=True)\n",
    "# Medium_Risk_Customer_val1=X_valid1[X_valid1['Class']=='Medium'].sort_values('Total Past Due',ascending=False)[['Total Past Due','Probability','Class']].reset_index(drop=True)\n",
    "# Low_Risk_Customer_val1=X_valid1[X_valid1['Class']=='Low'].sort_values('Total Past Due',ascending=False)[['Total Past Due','Probability','Class']].reset_index(drop=True)\n",
    "# Very_Low_Risk_Customer_val1=X_valid1[X_valid1['Class']=='Vey_Low'].sort_values('Total Past Due',ascending=False)[['Total Past Due','Probability','Class']].reset_index(drop=True)"
   ]
  },
  {
   "cell_type": "code",
   "execution_count": 41,
   "metadata": {},
   "outputs": [],
   "source": [
    "# High_Risk_Customer_val2=X_valid2[X_valid2['Class']=='High'].sort_values('Total Past Due',ascending=False)[['Total Past Due','Probability','Class']].reset_index(drop=True)\n",
    "# Medium_Risk_Customer_val2=X_valid2[X_valid2['Class']=='Medium'].sort_values('Total Past Due',ascending=False)[['Total Past Due','Probability','Class']].reset_index(drop=True)\n",
    "# Low_Risk_Customer_val2=X_valid2[X_valid2['Class']=='Low'].sort_values('Total Past Due',ascending=False)[['Total Past Due','Probability','Class']].reset_index(drop=True)\n",
    "# Very_Low_Risk_Customer_val2=X_valid2[X_valid2['Class']=='Vey_Low'].sort_values('Total Past Due',ascending=False)[['Total Past Due','Probability','Class']].reset_index(drop=True)"
   ]
  },
  {
   "cell_type": "markdown",
   "metadata": {},
   "source": [
    "# Roc_Curve(Non_Balanced)"
   ]
  },
  {
   "cell_type": "code",
   "execution_count": 42,
   "metadata": {},
   "outputs": [
    {
     "name": "stdout",
     "output_type": "stream",
     "text": [
      "No Skill: ROC AUC=0.500\n",
      "Logistic: ROC AUC=0.851\n"
     ]
    },
    {
     "data": {
      "image/png": "[encoded data removed]",
      "text/plain": [
       "<Figure size 432x288 with 1 Axes>"
      ]
     },
     "metadata": {
      "needs_background": "light"
     },
     "output_type": "display_data"
    }
   ],
   "source": [
    "#Roc_Curve\n",
    "#for logistic Regression\n",
    "y_pred_logistic=lgb_estimator.predict_proba(X_test)\n",
    "\n",
    "#for all model\n",
    "ns_probs = [0 for _ in range(len(y_test))]\n",
    "\n",
    "# keep probabilities for the positive outcome only\n",
    "y_pred_logistic=y_pred_logistic[:,1]\n",
    "\n",
    "#for logistic Regression\n",
    "ns_auc_logistic = roc_auc_score(y_test, ns_probs)\n",
    "lr_auc_logistic = roc_auc_score(y_test, y_pred_logistic)\n",
    "\n",
    "#for logistic Regression\n",
    "print('No Skill: ROC AUC=%.3f' % (ns_auc_logistic))\n",
    "print('Logistic: ROC AUC=%.3f' % (lr_auc_logistic))\n",
    "\n",
    "# calculate roc curves for logistic Regression\n",
    "ns_fpr_logistic, ns_tpr_logistic, _ = roc_curve(y_test, ns_probs)\n",
    "lr_fpr_logistic, lr_tpr_logistic, _ = roc_curve(y_test, y_pred_logistic)\n",
    "\n",
    "# plot the roc curve for the model\n",
    "plt.plot(ns_fpr_logistic, ns_tpr_logistic, linestyle='--', label='No Skill')\n",
    "plt.plot(lr_fpr_logistic, lr_tpr_logistic, marker='.', label='Logistic')\n",
    "\n",
    "# axis labels\n",
    "plt.xlabel('False Positive Rate')\n",
    "plt.ylabel('True Positive Rate')\n",
    "# show the legend\n",
    "plt.legend()\n",
    "# show the plot\n",
    "plt.show()"
   ]
  },
  {
   "cell_type": "markdown",
   "metadata": {},
   "source": [
    "# Ks_Table(Non_Balanced)"
   ]
  },
  {
   "cell_type": "code",
   "execution_count": 43,
   "metadata": {},
   "outputs": [],
   "source": [
    "def ks_table(data_frame,pred_col_name = 'Probabilty',true_col_name = 'Target',responder_default = int(1),dec_no = 10):\n",
    "    ascending_df = data_frame.sort_values(by = pred_col_name,ascending = False)\n",
    "    length_df = len(data_frame)\n",
    "    decile_len = length_df // dec_no\n",
    "    total_resp = data_frame[true_col_name].value_counts().loc[1]\n",
    "    total_non_resp = data_frame[true_col_name].value_counts().loc[0]\n",
    "    temp_ks = pd.DataFrame({'RANK': [i + 1  for i in range(dec_no)],'TOTAL POP' : [decile_len]*dec_no,'MAX PROB':[np.nan] * dec_no,'MIN PROB':[np.nan] * dec_no,'NON-RESPONDERS':[np.nan]*dec_no,'RESPONDERS':[np.nan]*dec_no,'PERC RESPONDERS':[np.nan]*dec_no,'PERC NON-RESPONDERS':[np.nan]*dec_no,'CUM PERC RESPONDERS':[np.nan]*dec_no,'CUM PERC NON-RESPONDERS':[np.nan]*dec_no,'DIFFERENCE':[np.nan]*dec_no})\n",
    "    cum_prec_responders = 0\n",
    "    cum_prec_non_responders = 0\n",
    "    for j in range(dec_no):\n",
    "        if j < dec_no - 1:\n",
    "            temp_df = ascending_df.iloc[decile_len*j:decile_len*(j+1)]\n",
    "        else:\n",
    "            temp_df = ascending_df.iloc[decile_len*j:]\n",
    "        min_prob = min(temp_df[pred_col_name])\n",
    "        max_prob = max(temp_df[pred_col_name])\n",
    "        try:\n",
    "            non_responders = temp_df[true_col_name].value_counts().loc[0]\n",
    "        except KeyError:\n",
    "            non_responders = 0\n",
    "        try:\n",
    "            responders = temp_df[true_col_name].value_counts().loc[1]\n",
    "        except KeyError:\n",
    "            responders = 0\n",
    "        prec_responders = responders/total_resp\n",
    "        prec_non_responders = non_responders/total_non_resp\n",
    "        cum_prec_responders = prec_responders + cum_prec_responders\n",
    "        cum_prec_non_responders = prec_non_responders + cum_prec_non_responders\n",
    "        diff = cum_prec_responders - cum_prec_non_responders\n",
    "        #temp_ks.loc[j,'EURVALUE'] = temp_df['EURVALUE'].sum()\n",
    "        temp_ks.loc[j,'MAX PROB'] = format(max_prob, 'f')\n",
    "        temp_ks.loc[j,'MIN PROB'] = format(min_prob, 'f')\n",
    "        temp_ks.loc[j,'NON-RESPONDERS'] = int(non_responders) \n",
    "        temp_ks.loc[j,'RESPONDERS'] = int(responders)\n",
    "        temp_ks.loc[j,'PERC RESPONDERS'] = prec_responders\n",
    "        temp_ks.loc[j,'PERC NON-RESPONDERS'] = prec_non_responders\n",
    "        temp_ks.loc[j,'CUM PERC RESPONDERS'] = cum_prec_responders\n",
    "        temp_ks.loc[j,'CUM PERC NON-RESPONDERS'] = cum_prec_non_responders\n",
    "        temp_ks.loc[j,'DIFFERENCE'] = format(diff, 'f')\n",
    "    \n",
    "    return temp_ks\n",
    "        \n",
    "predictions_test = pd.DataFrame({'Target': y_test,'Probabilty':y_prob_cutoff})\n",
    "predictions_val1 = pd.DataFrame({'Target': y_valid1,'Probabilty':y_val1_prob})\n",
    "predictions_val2 = pd.DataFrame({'Target': y_valid2,'Probabilty':y_val2_prob})    ##### preds is nothing but your y_val"
   ]
  },
  {
   "cell_type": "markdown",
   "metadata": {},
   "source": [
    "# KS_Table(Test)"
   ]
  },
  {
   "cell_type": "code",
   "execution_count": 44,
   "metadata": {},
   "outputs": [
    {
     "data": {
      "text/html": [
       "<div>\n",
       "<style scoped>\n",
       "    .dataframe tbody tr th:only-of-type {\n",
       "        vertical-align: middle;\n",
       "    }\n",
       "\n",
       "    .dataframe tbody tr th {\n",
       "        vertical-align: top;\n",
       "    }\n",
       "\n",
       "    .dataframe thead th {\n",
       "        text-align: right;\n",
       "    }\n",
       "</style>\n",
       "<table border=\"1\" class=\"dataframe\">\n",
       "  <thead>\n",
       "    <tr style=\"text-align: right;\">\n",
       "      <th></th>\n",
       "      <th>RANK</th>\n",
       "      <th>TOTAL POP</th>\n",
       "      <th>MAX PROB</th>\n",
       "      <th>MIN PROB</th>\n",
       "      <th>NON-RESPONDERS</th>\n",
       "      <th>RESPONDERS</th>\n",
       "      <th>PERC RESPONDERS</th>\n",
       "      <th>PERC NON-RESPONDERS</th>\n",
       "      <th>CUM PERC RESPONDERS</th>\n",
       "      <th>CUM PERC NON-RESPONDERS</th>\n",
       "      <th>DIFFERENCE</th>\n",
       "    </tr>\n",
       "  </thead>\n",
       "  <tbody>\n",
       "    <tr>\n",
       "      <th>0</th>\n",
       "      <td>1</td>\n",
       "      <td>6029</td>\n",
       "      <td>1.000000</td>\n",
       "      <td>1.000000</td>\n",
       "      <td>4.0</td>\n",
       "      <td>6025.0</td>\n",
       "      <td>0.147512</td>\n",
       "      <td>0.000206</td>\n",
       "      <td>0.147512</td>\n",
       "      <td>0.000206</td>\n",
       "      <td>0.147307</td>\n",
       "    </tr>\n",
       "    <tr>\n",
       "      <th>1</th>\n",
       "      <td>2</td>\n",
       "      <td>6029</td>\n",
       "      <td>1.000000</td>\n",
       "      <td>0.992487</td>\n",
       "      <td>5.0</td>\n",
       "      <td>6024.0</td>\n",
       "      <td>0.147488</td>\n",
       "      <td>0.000257</td>\n",
       "      <td>0.295000</td>\n",
       "      <td>0.000463</td>\n",
       "      <td>0.294538</td>\n",
       "    </tr>\n",
       "    <tr>\n",
       "      <th>2</th>\n",
       "      <td>3</td>\n",
       "      <td>6029</td>\n",
       "      <td>0.992477</td>\n",
       "      <td>0.872348</td>\n",
       "      <td>342.0</td>\n",
       "      <td>5687.0</td>\n",
       "      <td>0.139237</td>\n",
       "      <td>0.017584</td>\n",
       "      <td>0.434238</td>\n",
       "      <td>0.018046</td>\n",
       "      <td>0.416191</td>\n",
       "    </tr>\n",
       "    <tr>\n",
       "      <th>3</th>\n",
       "      <td>4</td>\n",
       "      <td>6029</td>\n",
       "      <td>0.872320</td>\n",
       "      <td>0.790607</td>\n",
       "      <td>975.0</td>\n",
       "      <td>5054.0</td>\n",
       "      <td>0.123739</td>\n",
       "      <td>0.050129</td>\n",
       "      <td>0.557977</td>\n",
       "      <td>0.068175</td>\n",
       "      <td>0.489802</td>\n",
       "    </tr>\n",
       "    <tr>\n",
       "      <th>4</th>\n",
       "      <td>5</td>\n",
       "      <td>6029</td>\n",
       "      <td>0.790583</td>\n",
       "      <td>0.708080</td>\n",
       "      <td>1487.0</td>\n",
       "      <td>4542.0</td>\n",
       "      <td>0.111204</td>\n",
       "      <td>0.076452</td>\n",
       "      <td>0.669180</td>\n",
       "      <td>0.144627</td>\n",
       "      <td>0.524553</td>\n",
       "    </tr>\n",
       "    <tr>\n",
       "      <th>5</th>\n",
       "      <td>6</td>\n",
       "      <td>6029</td>\n",
       "      <td>0.708055</td>\n",
       "      <td>0.618208</td>\n",
       "      <td>1998.0</td>\n",
       "      <td>4031.0</td>\n",
       "      <td>0.098693</td>\n",
       "      <td>0.102725</td>\n",
       "      <td>0.767873</td>\n",
       "      <td>0.247352</td>\n",
       "      <td>0.520521</td>\n",
       "    </tr>\n",
       "    <tr>\n",
       "      <th>6</th>\n",
       "      <td>7</td>\n",
       "      <td>6029</td>\n",
       "      <td>0.618207</td>\n",
       "      <td>0.524237</td>\n",
       "      <td>2606.0</td>\n",
       "      <td>3423.0</td>\n",
       "      <td>0.083807</td>\n",
       "      <td>0.133985</td>\n",
       "      <td>0.851680</td>\n",
       "      <td>0.381337</td>\n",
       "      <td>0.470343</td>\n",
       "    </tr>\n",
       "    <tr>\n",
       "      <th>7</th>\n",
       "      <td>8</td>\n",
       "      <td>6029</td>\n",
       "      <td>0.524227</td>\n",
       "      <td>0.424652</td>\n",
       "      <td>3210.0</td>\n",
       "      <td>2819.0</td>\n",
       "      <td>0.069019</td>\n",
       "      <td>0.165039</td>\n",
       "      <td>0.920698</td>\n",
       "      <td>0.546375</td>\n",
       "      <td>0.374323</td>\n",
       "    </tr>\n",
       "    <tr>\n",
       "      <th>8</th>\n",
       "      <td>9</td>\n",
       "      <td>6029</td>\n",
       "      <td>0.424648</td>\n",
       "      <td>0.309371</td>\n",
       "      <td>3847.0</td>\n",
       "      <td>2182.0</td>\n",
       "      <td>0.053423</td>\n",
       "      <td>0.197789</td>\n",
       "      <td>0.974121</td>\n",
       "      <td>0.744165</td>\n",
       "      <td>0.229957</td>\n",
       "    </tr>\n",
       "    <tr>\n",
       "      <th>9</th>\n",
       "      <td>10</td>\n",
       "      <td>6029</td>\n",
       "      <td>0.309339</td>\n",
       "      <td>0.000000</td>\n",
       "      <td>4976.0</td>\n",
       "      <td>1057.0</td>\n",
       "      <td>0.025879</td>\n",
       "      <td>0.255835</td>\n",
       "      <td>1.000000</td>\n",
       "      <td>1.000000</td>\n",
       "      <td>0.000000</td>\n",
       "    </tr>\n",
       "  </tbody>\n",
       "</table>\n",
       "</div>"
      ],
      "text/plain": [
       "   RANK  TOTAL POP  MAX PROB  MIN PROB  NON-RESPONDERS  RESPONDERS  \\\n",
       "0     1       6029  1.000000  1.000000             4.0      6025.0   \n",
       "1     2       6029  1.000000  0.992487             5.0      6024.0   \n",
       "2     3       6029  0.992477  0.872348           342.0      5687.0   \n",
       "3     4       6029  0.872320  0.790607           975.0      5054.0   \n",
       "4     5       6029  0.790583  0.708080          1487.0      4542.0   \n",
       "5     6       6029  0.708055  0.618208          1998.0      4031.0   \n",
       "6     7       6029  0.618207  0.524237          2606.0      3423.0   \n",
       "7     8       6029  0.524227  0.424652          3210.0      2819.0   \n",
       "8     9       6029  0.424648  0.309371          3847.0      2182.0   \n",
       "9    10       6029  0.309339  0.000000          4976.0      1057.0   \n",
       "\n",
       "   PERC RESPONDERS  PERC NON-RESPONDERS  CUM PERC RESPONDERS  \\\n",
       "0         0.147512             0.000206             0.147512   \n",
       "1         0.147488             0.000257             0.295000   \n",
       "2         0.139237             0.017584             0.434238   \n",
       "3         0.123739             0.050129             0.557977   \n",
       "4         0.111204             0.076452             0.669180   \n",
       "5         0.098693             0.102725             0.767873   \n",
       "6         0.083807             0.133985             0.851680   \n",
       "7         0.069019             0.165039             0.920698   \n",
       "8         0.053423             0.197789             0.974121   \n",
       "9         0.025879             0.255835             1.000000   \n",
       "\n",
       "   CUM PERC NON-RESPONDERS DIFFERENCE  \n",
       "0                 0.000206   0.147307  \n",
       "1                 0.000463   0.294538  \n",
       "2                 0.018046   0.416191  \n",
       "3                 0.068175   0.489802  \n",
       "4                 0.144627   0.524553  \n",
       "5                 0.247352   0.520521  \n",
       "6                 0.381337   0.470343  \n",
       "7                 0.546375   0.374323  \n",
       "8                 0.744165   0.229957  \n",
       "9                 1.000000   0.000000  "
      ]
     },
     "execution_count": 44,
     "metadata": {},
     "output_type": "execute_result"
    }
   ],
   "source": [
    "ks_table(predictions_test)"
   ]
  },
  {
   "cell_type": "markdown",
   "metadata": {},
   "source": [
    "# KS_Table(val_1 dec_data)"
   ]
  },
  {
   "cell_type": "code",
   "execution_count": 45,
   "metadata": {},
   "outputs": [
    {
     "data": {
      "text/html": [
       "<div>\n",
       "<style scoped>\n",
       "    .dataframe tbody tr th:only-of-type {\n",
       "        vertical-align: middle;\n",
       "    }\n",
       "\n",
       "    .dataframe tbody tr th {\n",
       "        vertical-align: top;\n",
       "    }\n",
       "\n",
       "    .dataframe thead th {\n",
       "        text-align: right;\n",
       "    }\n",
       "</style>\n",
       "<table border=\"1\" class=\"dataframe\">\n",
       "  <thead>\n",
       "    <tr style=\"text-align: right;\">\n",
       "      <th></th>\n",
       "      <th>RANK</th>\n",
       "      <th>TOTAL POP</th>\n",
       "      <th>MAX PROB</th>\n",
       "      <th>MIN PROB</th>\n",
       "      <th>NON-RESPONDERS</th>\n",
       "      <th>RESPONDERS</th>\n",
       "      <th>PERC RESPONDERS</th>\n",
       "      <th>PERC NON-RESPONDERS</th>\n",
       "      <th>CUM PERC RESPONDERS</th>\n",
       "      <th>CUM PERC NON-RESPONDERS</th>\n",
       "      <th>DIFFERENCE</th>\n",
       "    </tr>\n",
       "  </thead>\n",
       "  <tbody>\n",
       "    <tr>\n",
       "      <th>0</th>\n",
       "      <td>1</td>\n",
       "      <td>473</td>\n",
       "      <td>1.000000</td>\n",
       "      <td>1.000000</td>\n",
       "      <td>55.0</td>\n",
       "      <td>418.0</td>\n",
       "      <td>0.115886</td>\n",
       "      <td>0.048630</td>\n",
       "      <td>0.115886</td>\n",
       "      <td>0.048630</td>\n",
       "      <td>0.067256</td>\n",
       "    </tr>\n",
       "    <tr>\n",
       "      <th>1</th>\n",
       "      <td>2</td>\n",
       "      <td>473</td>\n",
       "      <td>1.000000</td>\n",
       "      <td>1.000000</td>\n",
       "      <td>69.0</td>\n",
       "      <td>404.0</td>\n",
       "      <td>0.112004</td>\n",
       "      <td>0.061008</td>\n",
       "      <td>0.227890</td>\n",
       "      <td>0.109637</td>\n",
       "      <td>0.118253</td>\n",
       "    </tr>\n",
       "    <tr>\n",
       "      <th>2</th>\n",
       "      <td>3</td>\n",
       "      <td>473</td>\n",
       "      <td>1.000000</td>\n",
       "      <td>0.987360</td>\n",
       "      <td>36.0</td>\n",
       "      <td>437.0</td>\n",
       "      <td>0.121153</td>\n",
       "      <td>0.031830</td>\n",
       "      <td>0.349044</td>\n",
       "      <td>0.141468</td>\n",
       "      <td>0.207576</td>\n",
       "    </tr>\n",
       "    <tr>\n",
       "      <th>3</th>\n",
       "      <td>4</td>\n",
       "      <td>473</td>\n",
       "      <td>0.987350</td>\n",
       "      <td>0.902516</td>\n",
       "      <td>66.0</td>\n",
       "      <td>407.0</td>\n",
       "      <td>0.112836</td>\n",
       "      <td>0.058355</td>\n",
       "      <td>0.461880</td>\n",
       "      <td>0.199823</td>\n",
       "      <td>0.262057</td>\n",
       "    </tr>\n",
       "    <tr>\n",
       "      <th>4</th>\n",
       "      <td>5</td>\n",
       "      <td>473</td>\n",
       "      <td>0.902495</td>\n",
       "      <td>0.833501</td>\n",
       "      <td>68.0</td>\n",
       "      <td>405.0</td>\n",
       "      <td>0.112282</td>\n",
       "      <td>0.060124</td>\n",
       "      <td>0.574161</td>\n",
       "      <td>0.259947</td>\n",
       "      <td>0.314214</td>\n",
       "    </tr>\n",
       "    <tr>\n",
       "      <th>5</th>\n",
       "      <td>6</td>\n",
       "      <td>473</td>\n",
       "      <td>0.833288</td>\n",
       "      <td>0.752659</td>\n",
       "      <td>118.0</td>\n",
       "      <td>355.0</td>\n",
       "      <td>0.098420</td>\n",
       "      <td>0.104332</td>\n",
       "      <td>0.672581</td>\n",
       "      <td>0.364279</td>\n",
       "      <td>0.308302</td>\n",
       "    </tr>\n",
       "    <tr>\n",
       "      <th>6</th>\n",
       "      <td>7</td>\n",
       "      <td>473</td>\n",
       "      <td>0.752594</td>\n",
       "      <td>0.658699</td>\n",
       "      <td>120.0</td>\n",
       "      <td>353.0</td>\n",
       "      <td>0.097865</td>\n",
       "      <td>0.106101</td>\n",
       "      <td>0.770446</td>\n",
       "      <td>0.470380</td>\n",
       "      <td>0.300066</td>\n",
       "    </tr>\n",
       "    <tr>\n",
       "      <th>7</th>\n",
       "      <td>8</td>\n",
       "      <td>473</td>\n",
       "      <td>0.658263</td>\n",
       "      <td>0.548944</td>\n",
       "      <td>170.0</td>\n",
       "      <td>303.0</td>\n",
       "      <td>0.084003</td>\n",
       "      <td>0.150309</td>\n",
       "      <td>0.854450</td>\n",
       "      <td>0.620690</td>\n",
       "      <td>0.233760</td>\n",
       "    </tr>\n",
       "    <tr>\n",
       "      <th>8</th>\n",
       "      <td>9</td>\n",
       "      <td>473</td>\n",
       "      <td>0.548840</td>\n",
       "      <td>0.431362</td>\n",
       "      <td>160.0</td>\n",
       "      <td>313.0</td>\n",
       "      <td>0.086776</td>\n",
       "      <td>0.141468</td>\n",
       "      <td>0.941225</td>\n",
       "      <td>0.762157</td>\n",
       "      <td>0.179068</td>\n",
       "    </tr>\n",
       "    <tr>\n",
       "      <th>9</th>\n",
       "      <td>10</td>\n",
       "      <td>473</td>\n",
       "      <td>0.430690</td>\n",
       "      <td>0.000000</td>\n",
       "      <td>269.0</td>\n",
       "      <td>212.0</td>\n",
       "      <td>0.058775</td>\n",
       "      <td>0.237843</td>\n",
       "      <td>1.000000</td>\n",
       "      <td>1.000000</td>\n",
       "      <td>0.000000</td>\n",
       "    </tr>\n",
       "  </tbody>\n",
       "</table>\n",
       "</div>"
      ],
      "text/plain": [
       "   RANK  TOTAL POP  MAX PROB  MIN PROB  NON-RESPONDERS  RESPONDERS  \\\n",
       "0     1        473  1.000000  1.000000            55.0       418.0   \n",
       "1     2        473  1.000000  1.000000            69.0       404.0   \n",
       "2     3        473  1.000000  0.987360            36.0       437.0   \n",
       "3     4        473  0.987350  0.902516            66.0       407.0   \n",
       "4     5        473  0.902495  0.833501            68.0       405.0   \n",
       "5     6        473  0.833288  0.752659           118.0       355.0   \n",
       "6     7        473  0.752594  0.658699           120.0       353.0   \n",
       "7     8        473  0.658263  0.548944           170.0       303.0   \n",
       "8     9        473  0.548840  0.431362           160.0       313.0   \n",
       "9    10        473  0.430690  0.000000           269.0       212.0   \n",
       "\n",
       "   PERC RESPONDERS  PERC NON-RESPONDERS  CUM PERC RESPONDERS  \\\n",
       "0         0.115886             0.048630             0.115886   \n",
       "1         0.112004             0.061008             0.227890   \n",
       "2         0.121153             0.031830             0.349044   \n",
       "3         0.112836             0.058355             0.461880   \n",
       "4         0.112282             0.060124             0.574161   \n",
       "5         0.098420             0.104332             0.672581   \n",
       "6         0.097865             0.106101             0.770446   \n",
       "7         0.084003             0.150309             0.854450   \n",
       "8         0.086776             0.141468             0.941225   \n",
       "9         0.058775             0.237843             1.000000   \n",
       "\n",
       "   CUM PERC NON-RESPONDERS DIFFERENCE  \n",
       "0                 0.048630   0.067256  \n",
       "1                 0.109637   0.118253  \n",
       "2                 0.141468   0.207576  \n",
       "3                 0.199823   0.262057  \n",
       "4                 0.259947   0.314214  \n",
       "5                 0.364279   0.308302  \n",
       "6                 0.470380   0.300066  \n",
       "7                 0.620690   0.233760  \n",
       "8                 0.762157   0.179068  \n",
       "9                 1.000000   0.000000  "
      ]
     },
     "execution_count": 45,
     "metadata": {},
     "output_type": "execute_result"
    }
   ],
   "source": [
    "ks_table(predictions_val1)"
   ]
  },
  {
   "cell_type": "markdown",
   "metadata": {},
   "source": [
    "# KS_Table(val_2 500-500 sample data)"
   ]
  },
  {
   "cell_type": "code",
   "execution_count": 46,
   "metadata": {},
   "outputs": [
    {
     "data": {
      "text/html": [
       "<div>\n",
       "<style scoped>\n",
       "    .dataframe tbody tr th:only-of-type {\n",
       "        vertical-align: middle;\n",
       "    }\n",
       "\n",
       "    .dataframe tbody tr th {\n",
       "        vertical-align: top;\n",
       "    }\n",
       "\n",
       "    .dataframe thead th {\n",
       "        text-align: right;\n",
       "    }\n",
       "</style>\n",
       "<table border=\"1\" class=\"dataframe\">\n",
       "  <thead>\n",
       "    <tr style=\"text-align: right;\">\n",
       "      <th></th>\n",
       "      <th>RANK</th>\n",
       "      <th>TOTAL POP</th>\n",
       "      <th>MAX PROB</th>\n",
       "      <th>MIN PROB</th>\n",
       "      <th>NON-RESPONDERS</th>\n",
       "      <th>RESPONDERS</th>\n",
       "      <th>PERC RESPONDERS</th>\n",
       "      <th>PERC NON-RESPONDERS</th>\n",
       "      <th>CUM PERC RESPONDERS</th>\n",
       "      <th>CUM PERC NON-RESPONDERS</th>\n",
       "      <th>DIFFERENCE</th>\n",
       "    </tr>\n",
       "  </thead>\n",
       "  <tbody>\n",
       "    <tr>\n",
       "      <th>0</th>\n",
       "      <td>1</td>\n",
       "      <td>100</td>\n",
       "      <td>1.000000</td>\n",
       "      <td>1.000000</td>\n",
       "      <td>1.0</td>\n",
       "      <td>99.0</td>\n",
       "      <td>0.198</td>\n",
       "      <td>0.002</td>\n",
       "      <td>0.198</td>\n",
       "      <td>0.002</td>\n",
       "      <td>0.196000</td>\n",
       "    </tr>\n",
       "    <tr>\n",
       "      <th>1</th>\n",
       "      <td>2</td>\n",
       "      <td>100</td>\n",
       "      <td>1.000000</td>\n",
       "      <td>0.908746</td>\n",
       "      <td>4.0</td>\n",
       "      <td>96.0</td>\n",
       "      <td>0.192</td>\n",
       "      <td>0.008</td>\n",
       "      <td>0.390</td>\n",
       "      <td>0.010</td>\n",
       "      <td>0.380000</td>\n",
       "    </tr>\n",
       "    <tr>\n",
       "      <th>2</th>\n",
       "      <td>3</td>\n",
       "      <td>100</td>\n",
       "      <td>0.907178</td>\n",
       "      <td>0.807904</td>\n",
       "      <td>25.0</td>\n",
       "      <td>75.0</td>\n",
       "      <td>0.150</td>\n",
       "      <td>0.050</td>\n",
       "      <td>0.540</td>\n",
       "      <td>0.060</td>\n",
       "      <td>0.480000</td>\n",
       "    </tr>\n",
       "    <tr>\n",
       "      <th>3</th>\n",
       "      <td>4</td>\n",
       "      <td>100</td>\n",
       "      <td>0.805482</td>\n",
       "      <td>0.717443</td>\n",
       "      <td>39.0</td>\n",
       "      <td>61.0</td>\n",
       "      <td>0.122</td>\n",
       "      <td>0.078</td>\n",
       "      <td>0.662</td>\n",
       "      <td>0.138</td>\n",
       "      <td>0.524000</td>\n",
       "    </tr>\n",
       "    <tr>\n",
       "      <th>4</th>\n",
       "      <td>5</td>\n",
       "      <td>100</td>\n",
       "      <td>0.717254</td>\n",
       "      <td>0.611973</td>\n",
       "      <td>50.0</td>\n",
       "      <td>50.0</td>\n",
       "      <td>0.100</td>\n",
       "      <td>0.100</td>\n",
       "      <td>0.762</td>\n",
       "      <td>0.238</td>\n",
       "      <td>0.524000</td>\n",
       "    </tr>\n",
       "    <tr>\n",
       "      <th>5</th>\n",
       "      <td>6</td>\n",
       "      <td>100</td>\n",
       "      <td>0.611702</td>\n",
       "      <td>0.530950</td>\n",
       "      <td>64.0</td>\n",
       "      <td>36.0</td>\n",
       "      <td>0.072</td>\n",
       "      <td>0.128</td>\n",
       "      <td>0.834</td>\n",
       "      <td>0.366</td>\n",
       "      <td>0.468000</td>\n",
       "    </tr>\n",
       "    <tr>\n",
       "      <th>6</th>\n",
       "      <td>7</td>\n",
       "      <td>100</td>\n",
       "      <td>0.529857</td>\n",
       "      <td>0.442053</td>\n",
       "      <td>71.0</td>\n",
       "      <td>29.0</td>\n",
       "      <td>0.058</td>\n",
       "      <td>0.142</td>\n",
       "      <td>0.892</td>\n",
       "      <td>0.508</td>\n",
       "      <td>0.384000</td>\n",
       "    </tr>\n",
       "    <tr>\n",
       "      <th>7</th>\n",
       "      <td>8</td>\n",
       "      <td>100</td>\n",
       "      <td>0.441587</td>\n",
       "      <td>0.353847</td>\n",
       "      <td>75.0</td>\n",
       "      <td>25.0</td>\n",
       "      <td>0.050</td>\n",
       "      <td>0.150</td>\n",
       "      <td>0.942</td>\n",
       "      <td>0.658</td>\n",
       "      <td>0.284000</td>\n",
       "    </tr>\n",
       "    <tr>\n",
       "      <th>8</th>\n",
       "      <td>9</td>\n",
       "      <td>100</td>\n",
       "      <td>0.353523</td>\n",
       "      <td>0.254326</td>\n",
       "      <td>80.0</td>\n",
       "      <td>20.0</td>\n",
       "      <td>0.040</td>\n",
       "      <td>0.160</td>\n",
       "      <td>0.982</td>\n",
       "      <td>0.818</td>\n",
       "      <td>0.164000</td>\n",
       "    </tr>\n",
       "    <tr>\n",
       "      <th>9</th>\n",
       "      <td>10</td>\n",
       "      <td>100</td>\n",
       "      <td>0.251018</td>\n",
       "      <td>0.001118</td>\n",
       "      <td>91.0</td>\n",
       "      <td>9.0</td>\n",
       "      <td>0.018</td>\n",
       "      <td>0.182</td>\n",
       "      <td>1.000</td>\n",
       "      <td>1.000</td>\n",
       "      <td>0.000000</td>\n",
       "    </tr>\n",
       "  </tbody>\n",
       "</table>\n",
       "</div>"
      ],
      "text/plain": [
       "   RANK  TOTAL POP  MAX PROB  MIN PROB  NON-RESPONDERS  RESPONDERS  \\\n",
       "0     1        100  1.000000  1.000000             1.0        99.0   \n",
       "1     2        100  1.000000  0.908746             4.0        96.0   \n",
       "2     3        100  0.907178  0.807904            25.0        75.0   \n",
       "3     4        100  0.805482  0.717443            39.0        61.0   \n",
       "4     5        100  0.717254  0.611973            50.0        50.0   \n",
       "5     6        100  0.611702  0.530950            64.0        36.0   \n",
       "6     7        100  0.529857  0.442053            71.0        29.0   \n",
       "7     8        100  0.441587  0.353847            75.0        25.0   \n",
       "8     9        100  0.353523  0.254326            80.0        20.0   \n",
       "9    10        100  0.251018  0.001118            91.0         9.0   \n",
       "\n",
       "   PERC RESPONDERS  PERC NON-RESPONDERS  CUM PERC RESPONDERS  \\\n",
       "0            0.198                0.002                0.198   \n",
       "1            0.192                0.008                0.390   \n",
       "2            0.150                0.050                0.540   \n",
       "3            0.122                0.078                0.662   \n",
       "4            0.100                0.100                0.762   \n",
       "5            0.072                0.128                0.834   \n",
       "6            0.058                0.142                0.892   \n",
       "7            0.050                0.150                0.942   \n",
       "8            0.040                0.160                0.982   \n",
       "9            0.018                0.182                1.000   \n",
       "\n",
       "   CUM PERC NON-RESPONDERS DIFFERENCE  \n",
       "0                    0.002   0.196000  \n",
       "1                    0.010   0.380000  \n",
       "2                    0.060   0.480000  \n",
       "3                    0.138   0.524000  \n",
       "4                    0.238   0.524000  \n",
       "5                    0.366   0.468000  \n",
       "6                    0.508   0.384000  \n",
       "7                    0.658   0.284000  \n",
       "8                    0.818   0.164000  \n",
       "9                    1.000   0.000000  "
      ]
     },
     "execution_count": 46,
     "metadata": {},
     "output_type": "execute_result"
    }
   ],
   "source": [
    "ks_table(predictions_val2)"
   ]
  },
  {
   "cell_type": "code",
   "execution_count": null,
   "metadata": {},
   "outputs": [],
   "source": [
    "#new\n",
    "#High -- 0.906619\n",
    "# medium -- 0.707894"
   ]
  },
  {
   "cell_type": "code",
   "execution_count": null,
   "metadata": {},
   "outputs": [],
   "source": [
    "# high  >= 0.906619\n",
    "# medium >= 0.707894  and < 0.906619\n",
    "# low >.5 and < 0.707894"
   ]
  }
 ],
 "metadata": {
  "kernelspec": {
   "display_name": "Python 3 (ipykernel)",
   "language": "python",
   "name": "python3"
  },
  "language_info": {
   "codemirror_mode": {
    "name": "ipython",
    "version": 3
   },
   "file_extension": ".py",
   "mimetype": "text/x-python",
   "name": "python",
   "nbconvert_exporter": "python",
   "pygments_lexer": "ipython3",
   "version": "3.9.12"
  }
 },
 "nbformat": 4,
 "nbformat_minor": 4
}
