{
 "cells": [
  {
   "cell_type": "markdown",
   "id": "825c8a30",
   "metadata": {},
   "source": [
    "# Importing Libraries"
   ]
  },
  {
   "cell_type": "code",
   "execution_count": 1,
   "id": "a1668d9f",
   "metadata": {},
   "outputs": [],
   "source": [
    "import pandas as pd\n",
    "import numpy as np\n",
    "import os,re\n",
    "from tqdm import tqdm\n",
    "tqdm.pandas()"
   ]
  },
  {
   "cell_type": "markdown",
   "id": "abbfb14f",
   "metadata": {},
   "source": [
    "# Importing daily PD"
   ]
  },
  {
   "cell_type": "code",
   "execution_count": 2,
   "id": "439868fb",
   "metadata": {},
   "outputs": [
    {
     "name": "stdout",
     "output_type": "stream",
     "text": [
      "(493, 8)\n"
     ]
    }
   ],
   "source": [
    "# df = pd.read_excel(r\"C:\\Users\\523068\\Desktop\\PD Details\\earlier data.xlsx\")\n",
    "df = pd.read_csv(r\"D:\\PD_MAPPING\\PD_TILL_22_NOV\\scorecard_for_23NOV.csv\")\n",
    "\n",
    "print(df.shape)\n",
    "print(df.columns)"
   ]
  },
  {
   "cell_type": "markdown",
   "id": "ec29eafc",
   "metadata": {},
   "source": [
    "# Renaming Columns"
   ]
  },
  {
   "cell_type": "code",
   "execution_count": 4,
   "id": "0e3fb641",
   "metadata": {},
   "outputs": [
    {
     "name": "stdout",
     "output_type": "stream",
     "text": [
      "Index([' Application number ', ' PV_SCORECARD_PD ', ' SCORECARD_DECISION ',\n",
      "       ' PRODUCT_FAMILY_SCORECARD_V1 ', ' SCORECARD_PD', 'Product',\n",
      "       'Sub Product', 'Segment'],\n",
      "      dtype='object')\n",
      "Index(['Ref ID', 'PD', 'SCORECARD_DECISION', 'SCORECARD', 'SCORECARD_PD',\n",
      "       'Product', 'Sub Product', 'Segment'],\n",
      "      dtype='object')\n"
     ]
    }
   ],
   "source": [
    "print(df.columns)\n",
    "df= df.rename(columns={' Application number ': 'Ref ID', ' PV_SCORECARD_PD ': 'PD', ' SCORECARD_DECISION ':'SCORECARD_DECISION',' PRODUCT_FAMILY_SCORECARD_V1 ':'SCORECARD',' SCORECARD_PD':'SCORECARD_PD'})\n",
    "print(df.columns)"
   ]
  },
  {
   "cell_type": "markdown",
   "id": "abc76a58",
   "metadata": {},
   "source": [
    "# Removing Extra Spaces From Variables"
   ]
  },
  {
   "cell_type": "code",
   "execution_count": 5,
   "id": "75bd52ff",
   "metadata": {},
   "outputs": [],
   "source": [
    "df['Ref ID']=df['Ref ID'].str.strip()\n",
    "df['SCORECARD']=df['SCORECARD'].str.strip()\n",
    "df['PD']=df['PD'].str.strip()\n",
    "df['PD']=pd.to_numeric(df['PD'])"
   ]
  },
  {
   "cell_type": "code",
   "execution_count": 6,
   "id": "3dda861e",
   "metadata": {},
   "outputs": [
    {
     "data": {
      "text/html": [
       "<div>\n",
       "<style scoped>\n",
       "    .dataframe tbody tr th:only-of-type {\n",
       "        vertical-align: middle;\n",
       "    }\n",
       "\n",
       "    .dataframe tbody tr th {\n",
       "        vertical-align: top;\n",
       "    }\n",
       "\n",
       "    .dataframe thead th {\n",
       "        text-align: right;\n",
       "    }\n",
       "</style>\n",
       "<table border=\"1\" class=\"dataframe\">\n",
       "  <thead>\n",
       "    <tr style=\"text-align: right;\">\n",
       "      <th></th>\n",
       "      <th>Ref ID</th>\n",
       "      <th>PD</th>\n",
       "      <th>SCORECARD_DECISION</th>\n",
       "      <th>SCORECARD</th>\n",
       "      <th>SCORECARD_PD</th>\n",
       "      <th>Product</th>\n",
       "      <th>Sub Product</th>\n",
       "      <th>Segment</th>\n",
       "    </tr>\n",
       "  </thead>\n",
       "  <tbody>\n",
       "    <tr>\n",
       "      <th>0</th>\n",
       "      <td>R32722492913</td>\n",
       "      <td>0.379870</td>\n",
       "      <td>Reject</td>\n",
       "      <td>PV</td>\n",
       "      <td></td>\n",
       "      <td>NEW_VH</td>\n",
       "      <td>PV</td>\n",
       "      <td>SENP</td>\n",
       "    </tr>\n",
       "    <tr>\n",
       "      <th>1</th>\n",
       "      <td>R32722492934</td>\n",
       "      <td>0.867611</td>\n",
       "      <td>Eligible</td>\n",
       "      <td>ACE_INTRA</td>\n",
       "      <td></td>\n",
       "      <td>NEW_VH</td>\n",
       "      <td>ILSCV</td>\n",
       "      <td>SRT2</td>\n",
       "    </tr>\n",
       "    <tr>\n",
       "      <th>2</th>\n",
       "      <td>R32722492938</td>\n",
       "      <td>0.759602</td>\n",
       "      <td>Reject</td>\n",
       "      <td>LCV_WITHOUT_BUS</td>\n",
       "      <td></td>\n",
       "      <td>NEW_VH</td>\n",
       "      <td>ILSCV</td>\n",
       "      <td>SRT2</td>\n",
       "    </tr>\n",
       "    <tr>\n",
       "      <th>3</th>\n",
       "      <td>R32722492920</td>\n",
       "      <td>0.868835</td>\n",
       "      <td>Eligible</td>\n",
       "      <td>ACE_INTRA</td>\n",
       "      <td></td>\n",
       "      <td>NaN</td>\n",
       "      <td>NaN</td>\n",
       "      <td>NaN</td>\n",
       "    </tr>\n",
       "    <tr>\n",
       "      <th>4</th>\n",
       "      <td>R32722492932</td>\n",
       "      <td>0.775303</td>\n",
       "      <td>Credit Refer 2</td>\n",
       "      <td>ACE_INTRA</td>\n",
       "      <td></td>\n",
       "      <td>NaN</td>\n",
       "      <td>NaN</td>\n",
       "      <td>NaN</td>\n",
       "    </tr>\n",
       "  </tbody>\n",
       "</table>\n",
       "</div>"
      ],
      "text/plain": [
       "         Ref ID        PD SCORECARD_DECISION        SCORECARD SCORECARD_PD  \\\n",
       "0  R32722492913  0.379870            Reject                PV                \n",
       "1  R32722492934  0.867611          Eligible         ACE_INTRA                \n",
       "2  R32722492938  0.759602            Reject   LCV_WITHOUT_BUS                \n",
       "3  R32722492920  0.868835          Eligible         ACE_INTRA                \n",
       "4  R32722492932  0.775303    Credit Refer 2         ACE_INTRA                \n",
       "\n",
       "  Product Sub Product Segment  \n",
       "0  NEW_VH          PV    SENP  \n",
       "1  NEW_VH       ILSCV    SRT2  \n",
       "2  NEW_VH       ILSCV    SRT2  \n",
       "3     NaN         NaN     NaN  \n",
       "4     NaN         NaN     NaN  "
      ]
     },
     "execution_count": 6,
     "metadata": {},
     "output_type": "execute_result"
    }
   ],
   "source": [
    "df.head()"
   ]
  },
  {
   "cell_type": "code",
   "execution_count": null,
   "id": "0079d474",
   "metadata": {},
   "outputs": [],
   "source": []
  },
  {
   "cell_type": "code",
   "execution_count": null,
   "id": "dd16e2c2",
   "metadata": {},
   "outputs": [],
   "source": [
    "# Merging the appended data and LOS_data\n",
    "# df=df.merge(los_data,how='left',left_on='Ref ID', right_on='Ref ID')\n",
    "# print(df.shape)\n",
    "# (122763, 17)\n",
    "\n",
    "# df.drop_duplicates(inplace=True)\n",
    "# df.reset_index(drop=True,inplace=True)\n",
    "# print(df.head())\n",
    "# print(df.shape)\n",
    "\n",
    "# df.to_csv(r\"\\\\172.26.100.99\\tmf\\Pratibha\\Scorecard_Daily_PD_Files\\Output_Files\\Appended_File2_29JAN22-30SEP22.csv\", index=False)\n",
    "\n",
    "# df.to_csv(r'C:\\Users\\523068\\Desktop\\df.csv')\n",
    "\n",
    "# los_data= pd.read_excel(r\"\\\\172.26.100.99\\tmf\\Pratibha\\Scorecard_Daily_PD_Files\\Supporting_Files\\Los_Data_NOV20-SEP22.xlsx\")\n",
    "# print(los_data.shape)\n",
    "# # (390491, 12)\n",
    "\n",
    "# # Merging the appended data and LOS_data\n",
    "\n",
    "# df=df.merge(los_data,how='left',on='Ref ID')\n",
    "# print(df.shape)\n",
    "# # (122763, 17)\n",
    "\n",
    "# df.drop_duplicates(inplace=True)\n",
    "# df.reset_index(drop=True,inplace=True)\n",
    "# print(df.head())\n",
    "# print(df.shape)\n",
    "\n",
    "# df.to_csv(r\"\\\\172.26.100.99\\tmf\\Pratibha\\Scorecard_Daily_PD_Files\\Output_Files\\Appended_File2_29JAN22-30SEP22.csv\", index=False)"
   ]
  },
  {
   "cell_type": "markdown",
   "id": "78d22ca3",
   "metadata": {},
   "source": [
    "# PD Banding"
   ]
  },
  {
   "cell_type": "code",
   "execution_count": 7,
   "id": "d8382cbd",
   "metadata": {},
   "outputs": [
    {
     "data": {
      "text/plain": [
       "UV_REPUR              109\n",
       "ACE_INTRA              91\n",
       "                       89\n",
       "NA                     61\n",
       "MHCV                   53\n",
       "UV_REFIN               29\n",
       "PV                     23\n",
       "ICV_WITHOUT_BUS        13\n",
       "MAGIC_IRIS              9\n",
       "LCV_WITHOUT_BUS         7\n",
       "207_XENON               5\n",
       "ICV_LCV_WINGER_BUS      4\n",
       "Name: SCORECARD, dtype: int64"
      ]
     },
     "execution_count": 7,
     "metadata": {},
     "output_type": "execute_result"
    }
   ],
   "source": [
    "df['SCORECARD'].value_counts()"
   ]
  },
  {
   "cell_type": "markdown",
   "id": "85c5930e",
   "metadata": {},
   "source": [
    "## 207, Xenon"
   ]
  },
  {
   "cell_type": "code",
   "execution_count": 8,
   "id": "59173c8b",
   "metadata": {},
   "outputs": [
    {
     "name": "stdout",
     "output_type": "stream",
     "text": [
      "(5, 8)\n"
     ]
    },
    {
     "name": "stderr",
     "output_type": "stream",
     "text": [
      "C:\\Users\\523836\\AppData\\Local\\Temp\\ipykernel_9316\\2067743442.py:30: SettingWithCopyWarning: \n",
      "A value is trying to be set on a copy of a slice from a DataFrame.\n",
      "Try using .loc[row_indexer,col_indexer] = value instead\n",
      "\n",
      "See the caveats in the documentation: https://pandas.pydata.org/pandas-docs/stable/user_guide/indexing.html#returning-a-view-versus-a-copy\n",
      "  df_207['Band']=df_207.apply(xenon ,axis=1)\n"
     ]
    },
    {
     "data": {
      "text/plain": [
       "0"
      ]
     },
     "execution_count": 8,
     "metadata": {},
     "output_type": "execute_result"
    }
   ],
   "source": [
    "df_207=df[(df['SCORECARD']=='207_XENON') & (df['Product']=='NEW_VH')]\n",
    "df_207.reset_index(drop=True,inplace=True)\n",
    "print(df_207.shape)\n",
    "# (4640, 16)\n",
    "\n",
    "def xenon(x):\n",
    "    if x['PD']<=0.5046445:\n",
    "        return '1'\n",
    "    elif x['PD']<=0.5727886:\n",
    "        return '2'\n",
    "    elif x['PD']<=0.6228912:\n",
    "        return '3'\n",
    "    elif x['PD']<=0.6648042:\n",
    "        return '4'\n",
    "    elif x['PD']<=0.7094056:\n",
    "        return '5'\n",
    "    elif x['PD']<=0.7621896:\n",
    "        return '6'\n",
    "    elif x['PD']<=0.8146048:\n",
    "        return '7'\n",
    "    elif x['PD']<=0.8628279:\n",
    "        return '8'\n",
    "    elif x['PD']<=0.9155387:\n",
    "        return '9'\n",
    "    elif x['PD']>0.9155387:\n",
    "        return '10'\n",
    "    else:\n",
    "        return ' '\n",
    "    \n",
    "df_207['Band']=df_207.apply(xenon ,axis=1)\n",
    "df_207['Band'].isnull().sum()"
   ]
  },
  {
   "cell_type": "markdown",
   "id": "7008a808",
   "metadata": {},
   "source": [
    "### ICV_LCV_WINGER BUS "
   ]
  },
  {
   "cell_type": "code",
   "execution_count": 9,
   "id": "81aebcd7",
   "metadata": {},
   "outputs": [
    {
     "name": "stdout",
     "output_type": "stream",
     "text": [
      "(4, 8)\n"
     ]
    },
    {
     "name": "stderr",
     "output_type": "stream",
     "text": [
      "C:\\Users\\523836\\AppData\\Local\\Temp\\ipykernel_9316\\800665117.py:31: SettingWithCopyWarning: \n",
      "A value is trying to be set on a copy of a slice from a DataFrame.\n",
      "Try using .loc[row_indexer,col_indexer] = value instead\n",
      "\n",
      "See the caveats in the documentation: https://pandas.pydata.org/pandas-docs/stable/user_guide/indexing.html#returning-a-view-versus-a-copy\n",
      "  df_ILCV_WINGER_BUS['Band']=df_ILCV_WINGER_BUS.apply(ilcv_winger ,axis=1)\n"
     ]
    },
    {
     "data": {
      "text/plain": [
       "0"
      ]
     },
     "execution_count": 9,
     "metadata": {},
     "output_type": "execute_result"
    }
   ],
   "source": [
    "df_ILCV_WINGER_BUS=df[(df['SCORECARD']=='ICV_LCV_WINGER_BUS') & (df['Product']=='NEW_VH')]\n",
    "df_ILCV_WINGER_BUS.reset_index(drop=True,inplace=True)\n",
    "print(df_ILCV_WINGER_BUS.shape)\n",
    "# (1259, 16)\n",
    "\n",
    "def ilcv_winger(x):\n",
    "    if x['PD']<=0.5676088:\n",
    "        return '1'\n",
    "    elif x['PD']<=0.7008101:\n",
    "        return '2'\n",
    "    elif x['PD']<=0.7772676:\n",
    "        return '3'\n",
    "    elif x['PD']<=0.829162:\n",
    "        return '4'\n",
    "    elif x['PD']<=0.8735829:\n",
    "        return '5'\n",
    "    elif x['PD']<=0.9055305:\n",
    "        return '6'\n",
    "    elif x['PD']<=0.9342807:\n",
    "        return '7'\n",
    "    elif x['PD']<=0.955678:\n",
    "        return '8'\n",
    "    elif x['PD']<=0.973997:\n",
    "        return '9'\n",
    "    elif x['PD']>0.973997:\n",
    "        return '10'\n",
    "    else:\n",
    "        return ''\n",
    "    \n",
    "\n",
    "df_ILCV_WINGER_BUS['Band']=df_ILCV_WINGER_BUS.apply(ilcv_winger ,axis=1)\n",
    "df_ILCV_WINGER_BUS['Band'].isnull().sum()    "
   ]
  },
  {
   "cell_type": "markdown",
   "id": "14faf366",
   "metadata": {},
   "source": [
    "### ICV_WITHOUT_BUS "
   ]
  },
  {
   "cell_type": "code",
   "execution_count": 10,
   "id": "b2dc1afd",
   "metadata": {},
   "outputs": [
    {
     "name": "stdout",
     "output_type": "stream",
     "text": [
      "(12, 8)\n"
     ]
    },
    {
     "name": "stderr",
     "output_type": "stream",
     "text": [
      "C:\\Users\\523836\\AppData\\Local\\Temp\\ipykernel_9316\\1630976358.py:30: SettingWithCopyWarning: \n",
      "A value is trying to be set on a copy of a slice from a DataFrame.\n",
      "Try using .loc[row_indexer,col_indexer] = value instead\n",
      "\n",
      "See the caveats in the documentation: https://pandas.pydata.org/pandas-docs/stable/user_guide/indexing.html#returning-a-view-versus-a-copy\n",
      "  df_ICV_WO_BUS['Band']=df_ICV_WO_BUS.apply(icv_wo_bus,axis=1)\n"
     ]
    },
    {
     "data": {
      "text/plain": [
       "0"
      ]
     },
     "execution_count": 10,
     "metadata": {},
     "output_type": "execute_result"
    }
   ],
   "source": [
    "df_ICV_WO_BUS=df[(df['SCORECARD']=='ICV_WITHOUT_BUS') & (df['Product']=='NEW_VH')]\n",
    "df_ICV_WO_BUS.reset_index(drop=True,inplace=True)\n",
    "print(df_ICV_WO_BUS.shape)\n",
    "# 5786, 16)\n",
    "\n",
    "def icv_wo_bus(x):\n",
    "    if x['PD']<=0.4605081:\n",
    "        return '1'\n",
    "    elif x['PD']<=0.5825842:\n",
    "        return '2'\n",
    "    elif x['PD']<=0.6565704:\n",
    "        return '3'\n",
    "    elif x['PD']<=0.7111521:\n",
    "        return '4'\n",
    "    elif x['PD']<=0.7687305:\n",
    "        return '5'\n",
    "    elif x['PD']<=0.8146886:\n",
    "        return '6'\n",
    "    elif x['PD']<=0.860054:\n",
    "        return '7'\n",
    "    elif x['PD']<=0.9025007:\n",
    "        return '8'\n",
    "    elif x['PD']<=0.9518172:\n",
    "        return '9'\n",
    "    elif x['PD']>0.9518172:\n",
    "        return '10'\n",
    "    else:\n",
    "        return ''\n",
    "    \n",
    "df_ICV_WO_BUS['Band']=df_ICV_WO_BUS.apply(icv_wo_bus,axis=1)\n",
    "df_ICV_WO_BUS['Band'].isnull().sum()"
   ]
  },
  {
   "cell_type": "markdown",
   "id": "874ffd9a",
   "metadata": {},
   "source": [
    "### LCV_WITHOUT_BUSES "
   ]
  },
  {
   "cell_type": "code",
   "execution_count": 11,
   "id": "2511f456",
   "metadata": {},
   "outputs": [
    {
     "name": "stdout",
     "output_type": "stream",
     "text": [
      "(6, 8)\n"
     ]
    },
    {
     "name": "stderr",
     "output_type": "stream",
     "text": [
      "C:\\Users\\523836\\AppData\\Local\\Temp\\ipykernel_9316\\1625932015.py:30: SettingWithCopyWarning: \n",
      "A value is trying to be set on a copy of a slice from a DataFrame.\n",
      "Try using .loc[row_indexer,col_indexer] = value instead\n",
      "\n",
      "See the caveats in the documentation: https://pandas.pydata.org/pandas-docs/stable/user_guide/indexing.html#returning-a-view-versus-a-copy\n",
      "  df_LCV_WO_BUS['Band']=df_LCV_WO_BUS.apply(lcv_wo_bus,axis=1)\n"
     ]
    },
    {
     "data": {
      "text/plain": [
       "0"
      ]
     },
     "execution_count": 11,
     "metadata": {},
     "output_type": "execute_result"
    }
   ],
   "source": [
    "df_LCV_WO_BUS=df[(df['SCORECARD']=='LCV_WITHOUT_BUS') & (df['Product']=='NEW_VH')]\n",
    "df_LCV_WO_BUS.reset_index(drop=True,inplace=True)\n",
    "print(df_LCV_WO_BUS.shape)\n",
    "# (2519, 16)\n",
    "\n",
    "def lcv_wo_bus(x):\n",
    "    if x['PD']<=0.6677061:\n",
    "        return '1'\n",
    "    elif x['PD']<=0.7620377:\n",
    "        return '2'\n",
    "    elif x['PD']<=0.8208796:\n",
    "        return '3'\n",
    "    elif x['PD']<=0.8603592:\n",
    "        return '4'\n",
    "    elif x['PD']<=0.8898802:\n",
    "        return '5'\n",
    "    elif x['PD']<=0.9167075:\n",
    "        return '6'\n",
    "    elif x['PD']<=0.9381607:\n",
    "        return '7'\n",
    "    elif x['PD']<=0.9577303:\n",
    "        return '8'\n",
    "    elif x['PD']<=0.9747142:\n",
    "        return '9'\n",
    "    elif x['PD']>0.9747142:\n",
    "        return '10'\n",
    "    else:\n",
    "        return ''\n",
    "    \n",
    "df_LCV_WO_BUS['Band']=df_LCV_WO_BUS.apply(lcv_wo_bus,axis=1)\n",
    "df_LCV_WO_BUS['Band'].isnull().sum()    "
   ]
  },
  {
   "cell_type": "markdown",
   "id": "2c20f176",
   "metadata": {},
   "source": [
    "### MAGIC"
   ]
  },
  {
   "cell_type": "code",
   "execution_count": 12,
   "id": "8419c015",
   "metadata": {},
   "outputs": [
    {
     "name": "stdout",
     "output_type": "stream",
     "text": [
      "(9, 8)\n",
      "(36, 9)\n"
     ]
    },
    {
     "name": "stderr",
     "output_type": "stream",
     "text": [
      "C:\\Users\\523836\\AppData\\Local\\Temp\\ipykernel_9316\\2620450493.py:30: SettingWithCopyWarning: \n",
      "A value is trying to be set on a copy of a slice from a DataFrame.\n",
      "Try using .loc[row_indexer,col_indexer] = value instead\n",
      "\n",
      "See the caveats in the documentation: https://pandas.pydata.org/pandas-docs/stable/user_guide/indexing.html#returning-a-view-versus-a-copy\n",
      "  df_MAGIC['Band']=df_MAGIC.apply(magic,axis=1)\n"
     ]
    }
   ],
   "source": [
    "df_MAGIC=df[(df['SCORECARD']=='MAGIC_IRIS') & (df['Product']=='NEW_VH')]\n",
    "df_MAGIC.reset_index(drop=True,inplace=True)\n",
    "print(df_MAGIC.shape)\n",
    "# (1405, 16)\n",
    "\n",
    "def magic(x):\n",
    "    if x['PD']<=0.5750816:\n",
    "        return '1'\n",
    "    elif x['PD']<=0.6654179:\n",
    "        return '2'\n",
    "    elif x['PD']<=0.7316039:\n",
    "        return '3'\n",
    "    elif x['PD']<=0.7868247:\n",
    "        return '4'\n",
    "    elif x['PD']<=0.8312118:\n",
    "        return '5'\n",
    "    elif x['PD']<=0.8673375:\n",
    "        return '6'\n",
    "    elif x['PD']<=0.8987257:\n",
    "        return '7'\n",
    "    elif x['PD']<=0.928029:\n",
    "        return '8'\n",
    "    elif x['PD']<=0.9559377:\n",
    "        return '9'\n",
    "    elif x['PD']>0.9559377:\n",
    "        return '10'\n",
    "    else:\n",
    "        return ''\n",
    "    \n",
    "df_MAGIC['Band']=df_MAGIC.apply(magic,axis=1)\n",
    "df_MAGIC['Band'].isnull().sum()    \n",
    "\n",
    "All_data= pd.concat([df_207,df_ICV_WO_BUS,df_ILCV_WINGER_BUS,df_LCV_WO_BUS,df_MAGIC])\n",
    "print(All_data.shape)\n",
    "# (15609, 17)"
   ]
  },
  {
   "cell_type": "markdown",
   "id": "2c1b2810",
   "metadata": {},
   "source": [
    "# Used Vehicle"
   ]
  },
  {
   "cell_type": "code",
   "execution_count": null,
   "id": "fac9e396",
   "metadata": {},
   "outputs": [],
   "source": [
    "# df_used=df[df['Product']=='USED_VH']\n",
    "# df_used.reset_index(drop= True, inplace= True)\n",
    "# print(df_used.shape)\n",
    "# # (33437, 17)\n",
    "\n",
    "\n",
    "# refinance=['BT_TMFTCL','RFN_FREE_EXT','RFN_FREE_TMF','RFN_OPNMKT','BT__INSTA','BT_EXT','BT_OPNMKT','BT_TMFSL','RFN__EXPRESS',\n",
    "#            'TOPUP_LOAN','KRL_IRIS_RFN','RFN_GREEN','RFN_NTR','BT_SPECIAL','BT_DIGITAL_ACE','BT_DIGITAL_LCV','INSTA_TOPUP_0821',\n",
    "#            'TOPUP_TMFSL','BT_TMF_GREEN','BT_EXT_GREEN','BT_DIGITAL_ICV','BT_DIGITAL_MHCV','REFIN_FREE_SARAL','REFINBT_TMF_SARAL',\n",
    "#            'REFINBT_EXT_SARAL']\n",
    "\n",
    "\n",
    "# repurchase=['REPUR_BT_NONTMF','REPUR_BT_TMF','REPUR_OPNMKT','REPO_REFINANCE','REPO_REFURB_REFIN','REPUR_BT_EXT','REPUR_BT_OPNMKT',\n",
    "#             'TATA_OK_FINANCE','KRL_IRIS_REPUR','JLR_APPROVED','REFINANCE_RCLIMIT','REFURB_RSO','REPUR_BIDDER_EXT',\n",
    "#             'REPUR_BIDDER_TMF','REPURBT_EXT_EXP','REPURBT_TMF_EXP','REPUR_FREE_EXP','REPURBT_TMF_PLUS','REPUR_FREE_PLUS',\n",
    "#             'REPURBT_EXT_PLUS','TML_ASSURE_NCER','REPO_REFIN_2022','REPU_FREE_SARAL','REPBT_TMF_SARAL','REPBT_EXT_SARAL']\n",
    "\n",
    "# def rep_ref(x):\n",
    "#     if x in refinance:\n",
    "#         return 'UV_REF'\n",
    "#     elif x in repurchase:\n",
    "#         return 'UV_REP'\n",
    "#     else:\n",
    "#         return ''\n",
    "    \n",
    "# df_used['UV_SCORECARD']=df_used['Scheme Code'].progress_apply(lambda x:rep_ref(x)) \n",
    "# df_used.shape\n",
    "# # (33437, 18)"
   ]
  },
  {
   "cell_type": "markdown",
   "id": "ad93cbf2",
   "metadata": {},
   "source": [
    "### UV_REP"
   ]
  },
  {
   "cell_type": "code",
   "execution_count": 13,
   "id": "80c471d1",
   "metadata": {},
   "outputs": [
    {
     "name": "stdout",
     "output_type": "stream",
     "text": [
      "(109, 8)\n"
     ]
    },
    {
     "name": "stderr",
     "output_type": "stream",
     "text": [
      "100%|█████████████████████████████████████████████████████████████████████████████| 109/109 [00:00<00:00, 18219.39it/s]\n",
      "C:\\Users\\523836\\AppData\\Local\\Temp\\ipykernel_9316\\2300883706.py:30: SettingWithCopyWarning: \n",
      "A value is trying to be set on a copy of a slice from a DataFrame.\n",
      "Try using .loc[row_indexer,col_indexer] = value instead\n",
      "\n",
      "See the caveats in the documentation: https://pandas.pydata.org/pandas-docs/stable/user_guide/indexing.html#returning-a-view-versus-a-copy\n",
      "  df_REP['Band']=df_REP.progress_apply(rep,axis=1)\n"
     ]
    },
    {
     "data": {
      "text/plain": [
       "0"
      ]
     },
     "execution_count": 13,
     "metadata": {},
     "output_type": "execute_result"
    }
   ],
   "source": [
    "df_REP=df[(df['SCORECARD']=='UV_REPUR') & (df['Product']=='USED_VH')]\n",
    "df_REP.reset_index(drop= True, inplace= True)\n",
    "print(df_REP.shape)\n",
    "# (21494, 18)\n",
    "\n",
    "def rep(x):\n",
    "    if x['PD']<=0.6898439:\n",
    "        return '1'\n",
    "    elif x['PD']<=0.7621905:\n",
    "        return '2'\n",
    "    elif x['PD']<=0.7996025:\n",
    "        return '3'\n",
    "    elif x['PD']<=0.8358499:\n",
    "        return '4'\n",
    "    elif x['PD']<=0.8612626:\n",
    "        return '5'\n",
    "    elif x['PD']<=0.8886656:\n",
    "        return '6'\n",
    "    elif x['PD']<=0.9168739:\n",
    "        return '7'\n",
    "    elif x['PD']<=0.9404999:\n",
    "        return '8'\n",
    "    elif x['PD']<=0.9597337:\n",
    "        return '9'\n",
    "    elif x['PD']>0.9597337:\n",
    "        return '10'\n",
    "    else:\n",
    "        return ''\n",
    "    \n",
    "df_REP['Band']=df_REP.progress_apply(rep,axis=1)\n",
    "df_REP['Band'].isnull().sum()    "
   ]
  },
  {
   "cell_type": "code",
   "execution_count": 68,
   "id": "5f9cfd6f",
   "metadata": {},
   "outputs": [],
   "source": [
    "# df_REP=df_used[df_used['UV_SCORECARD']=='UV_REP']\n",
    "# df_REP.reset_index(drop= True, inplace= True)\n",
    "# print(df_REP.shape)\n",
    "# # (21494, 18)\n",
    "\n",
    "# def rep(x):\n",
    "#     if x['PD']<=0.6898439:\n",
    "#         return '1'\n",
    "#     elif x['PD']<=0.7621905:\n",
    "#         return '2'\n",
    "#     elif x['PD']<=0.7996025:\n",
    "#         return '3'\n",
    "#     elif x['PD']<=0.8358499:\n",
    "#         return '4'\n",
    "#     elif x['PD']<=0.8612626:\n",
    "#         return '5'\n",
    "#     elif x['PD']<=0.8886656:\n",
    "#         return '6'\n",
    "#     elif x['PD']<=0.9168739:\n",
    "#         return '7'\n",
    "#     elif x['PD']<=0.9404999:\n",
    "#         return '8'\n",
    "#     elif x['PD']<=0.9597337:\n",
    "#         return '9'\n",
    "#     elif x['PD']>0.9597337:\n",
    "#         return '10'\n",
    "#     else:\n",
    "#         return ''\n",
    "    \n",
    "# df_REP['Band']=df_REP.progress_apply(rep,axis=1)\n",
    "# df_REP['Band'].isnull().sum()    "
   ]
  },
  {
   "cell_type": "markdown",
   "id": "5d186deb",
   "metadata": {},
   "source": [
    "### UV_REF"
   ]
  },
  {
   "cell_type": "code",
   "execution_count": 14,
   "id": "5e76d6bb",
   "metadata": {},
   "outputs": [
    {
     "name": "stdout",
     "output_type": "stream",
     "text": [
      "(24, 8)\n"
     ]
    },
    {
     "name": "stderr",
     "output_type": "stream",
     "text": [
      "100%|███████████████████████████████████████████████████████████████████████████████| 24/24 [00:00<00:00, 12032.43it/s]"
     ]
    },
    {
     "name": "stdout",
     "output_type": "stream",
     "text": [
      "(133, 9)\n"
     ]
    },
    {
     "name": "stderr",
     "output_type": "stream",
     "text": [
      "\n",
      "C:\\Users\\523836\\AppData\\Local\\Temp\\ipykernel_9316\\399597392.py:30: SettingWithCopyWarning: \n",
      "A value is trying to be set on a copy of a slice from a DataFrame.\n",
      "Try using .loc[row_indexer,col_indexer] = value instead\n",
      "\n",
      "See the caveats in the documentation: https://pandas.pydata.org/pandas-docs/stable/user_guide/indexing.html#returning-a-view-versus-a-copy\n",
      "  df_REF['Band']=df_REF.progress_apply(ref,axis=1)\n"
     ]
    }
   ],
   "source": [
    "df_REF=df[(df['SCORECARD']=='UV_REFIN') & (df['Product']=='USED_VH')]\n",
    "df_REF.reset_index(drop= True, inplace= True)\n",
    "print(df_REF.shape)\n",
    "# (4453, 18)\n",
    "\n",
    "def ref(x):\n",
    "    if x['PD']<=0.8237743:\n",
    "        return '1'\n",
    "    elif x['PD']<=0.8986295:\n",
    "        return '2'\n",
    "    elif x['PD']<=0.9324931:\n",
    "        return '3'\n",
    "    elif x['PD']<=0.9496814:\n",
    "        return '4'\n",
    "    elif x['PD']<=0.9647301:\n",
    "        return '5'\n",
    "    elif x['PD']<=0.9723627:\n",
    "        return '6'\n",
    "    elif x['PD']<=0.9809007:\n",
    "        return '7'\n",
    "    elif x['PD']<=0.986959:\n",
    "        return '8'\n",
    "    elif x['PD']<=0.9900473:\n",
    "        return '9'\n",
    "    elif x['PD']>0.9900473:\n",
    "        return '10'\n",
    "    else:\n",
    "        return ''\n",
    "    \n",
    "df_REF['Band']=df_REF.progress_apply(ref,axis=1)\n",
    "df_REF['Band'].isnull().sum()    \n",
    "\n",
    "All_data_used= pd.concat([df_REP,df_REF])\n",
    "print(All_data_used.shape)\n",
    "# (25947, 19)"
   ]
  },
  {
   "cell_type": "markdown",
   "id": "bda95065",
   "metadata": {},
   "source": [
    "# PV"
   ]
  },
  {
   "cell_type": "code",
   "execution_count": 15,
   "id": "79b5e403",
   "metadata": {},
   "outputs": [
    {
     "name": "stdout",
     "output_type": "stream",
     "text": [
      "(29, 8)\n",
      "SENP        12\n",
      "SALG         3\n",
      "PERSONAL     1\n",
      "SANG         1\n",
      "Name: Segment, dtype: int64\n"
     ]
    },
    {
     "name": "stderr",
     "output_type": "stream",
     "text": [
      "100%|██████████████████████████████████████████████████████████████████████████████████████████| 29/29 [00:00<?, ?it/s]"
     ]
    },
    {
     "name": "stdout",
     "output_type": "stream",
     "text": [
      "(29, 8)\n"
     ]
    },
    {
     "name": "stderr",
     "output_type": "stream",
     "text": [
      "\n",
      "C:\\Users\\523836\\AppData\\Local\\Temp\\ipykernel_9316\\2166509868.py:19: SettingWithCopyWarning: \n",
      "A value is trying to be set on a copy of a slice from a DataFrame.\n",
      "Try using .loc[row_indexer,col_indexer] = value instead\n",
      "\n",
      "See the caveats in the documentation: https://pandas.pydata.org/pandas-docs/stable/user_guide/indexing.html#returning-a-view-versus-a-copy\n",
      "  df_pv['SCORECARD']=df_pv['Segment'].progress_apply(lambda x:se_sa(x))\n"
     ]
    }
   ],
   "source": [
    "df_pv=df[(df['Product']=='NEW_VH') & (df['Sub Product']=='PV')]\n",
    "df_pv.reset_index(drop= True, inplace=True)\n",
    "print(df_pv.shape)\n",
    "# (5107, 17)\n",
    "\n",
    "print(df_pv['Segment'].value_counts())\n",
    "\n",
    "se= ['SENP','SEP']\n",
    "sa= ['SALG','SANG']\n",
    "\n",
    "def se_sa(x):\n",
    "    if x in se:\n",
    "        return 'PV_SE'\n",
    "    elif x in sa:\n",
    "        return 'PV_SAL'\n",
    "    else:\n",
    "        return ''\n",
    "    \n",
    "df_pv['SCORECARD']=df_pv['Segment'].progress_apply(lambda x:se_sa(x)) \n",
    "print(df_pv.shape)"
   ]
  },
  {
   "cell_type": "markdown",
   "id": "c553578a",
   "metadata": {},
   "source": [
    "### PV_SE"
   ]
  },
  {
   "cell_type": "code",
   "execution_count": 16,
   "id": "8a7bacb0",
   "metadata": {},
   "outputs": [
    {
     "name": "stdout",
     "output_type": "stream",
     "text": [
      "(12, 8)\n"
     ]
    },
    {
     "name": "stderr",
     "output_type": "stream",
     "text": [
      "100%|████████████████████████████████████████████████████████████████████████████████| 12/12 [00:00<00:00, 6018.37it/s]\n",
      "C:\\Users\\523836\\AppData\\Local\\Temp\\ipykernel_9316\\517380115.py:30: SettingWithCopyWarning: \n",
      "A value is trying to be set on a copy of a slice from a DataFrame.\n",
      "Try using .loc[row_indexer,col_indexer] = value instead\n",
      "\n",
      "See the caveats in the documentation: https://pandas.pydata.org/pandas-docs/stable/user_guide/indexing.html#returning-a-view-versus-a-copy\n",
      "  df_SE['Band']=df_SE.progress_apply(se,axis=1)\n"
     ]
    },
    {
     "data": {
      "text/plain": [
       "0"
      ]
     },
     "execution_count": 16,
     "metadata": {},
     "output_type": "execute_result"
    }
   ],
   "source": [
    "df_SE=df_pv[df_pv['SCORECARD']=='PV_SE']\n",
    "df_SE.reset_index(drop=True, inplace= True)\n",
    "print(df_SE.shape)\n",
    "# (2530, 17)\n",
    "\n",
    "def se(x):\n",
    "    if x['PD']<=0.556594:\n",
    "        return '1'\n",
    "    elif x['PD']<=0.6728175:\n",
    "        return '2'\n",
    "    elif x['PD']<=0.80078:\n",
    "        return '3'\n",
    "    elif x['PD']<=0.9929524:\n",
    "        return '4'\n",
    "    elif x['PD']<=0.9967302:\n",
    "        return '5'\n",
    "    elif x['PD']<=0.9982673:\n",
    "        return '6'\n",
    "    elif x['PD']<=0.998891:\n",
    "        return '7'\n",
    "    elif x['PD']<=0.9992379:\n",
    "        return '8'\n",
    "    elif x['PD']<=0.9994788:\n",
    "        return '9'\n",
    "    elif x['PD']>0.9994788:\n",
    "        return '10'\n",
    "    else:\n",
    "        return ''\n",
    "    \n",
    "df_SE['Band']=df_SE.progress_apply(se,axis=1)\n",
    "df_SE['Band'].isnull().sum()    "
   ]
  },
  {
   "cell_type": "markdown",
   "id": "f7d403bc",
   "metadata": {},
   "source": [
    "### PV_SA"
   ]
  },
  {
   "cell_type": "code",
   "execution_count": 17,
   "id": "50f5504d",
   "metadata": {},
   "outputs": [
    {
     "name": "stdout",
     "output_type": "stream",
     "text": [
      "(4, 8)\n"
     ]
    },
    {
     "name": "stderr",
     "output_type": "stream",
     "text": [
      "100%|██████████████████████████████████████████████████████████████████████████████████| 4/4 [00:00<00:00, 3802.63it/s]"
     ]
    },
    {
     "name": "stdout",
     "output_type": "stream",
     "text": [
      "(16, 9)\n"
     ]
    },
    {
     "name": "stderr",
     "output_type": "stream",
     "text": [
      "\n",
      "C:\\Users\\523836\\AppData\\Local\\Temp\\ipykernel_9316\\140122148.py:30: SettingWithCopyWarning: \n",
      "A value is trying to be set on a copy of a slice from a DataFrame.\n",
      "Try using .loc[row_indexer,col_indexer] = value instead\n",
      "\n",
      "See the caveats in the documentation: https://pandas.pydata.org/pandas-docs/stable/user_guide/indexing.html#returning-a-view-versus-a-copy\n",
      "  df_SA['Band']=df_SA.progress_apply(sa,axis=1)\n"
     ]
    }
   ],
   "source": [
    "df_SA=df_pv[df_pv['SCORECARD']=='PV_SAL']\n",
    "df_SA.reset_index(drop=True, inplace=True)\n",
    "print(df_SA.shape)\n",
    "# (846, 17)\n",
    "\n",
    "def sa(x):\n",
    "    if x['PD']<=0.7799065:\n",
    "        return '1'\n",
    "    elif x['PD']<=0.9931298:\n",
    "        return '2'\n",
    "    elif x['PD']<=0.9969994:\n",
    "        return '3'\n",
    "    elif x['PD']<=0.9986279:\n",
    "        return '4'\n",
    "    elif x['PD']<=0.9990034:\n",
    "        return '5'\n",
    "    elif x['PD']<=0.9992152:\n",
    "        return '6'\n",
    "    elif x['PD']<=0.999373:\n",
    "        return '7'\n",
    "    elif x['PD']<=0.9994817:\n",
    "        return '8'\n",
    "    elif x['PD']<=0.9996023:\n",
    "        return '9'\n",
    "    elif x['PD']>0.9996023:\n",
    "        return '10'\n",
    "    else:\n",
    "        return ''\n",
    "    \n",
    "df_SA['Band']=df_SA.progress_apply(sa,axis=1)\n",
    "df_SA['Band'].isnull().sum()    \n",
    "\n",
    "All_data_pv= pd.concat([df_SE,df_SA])\n",
    "print(All_data_pv.shape)\n",
    "# (25947, 19)"
   ]
  },
  {
   "cell_type": "markdown",
   "id": "acb54a87",
   "metadata": {},
   "source": [
    "# Saving Both Files"
   ]
  },
  {
   "cell_type": "code",
   "execution_count": null,
   "id": "4a9f947f",
   "metadata": {},
   "outputs": [],
   "source": [
    "# with pd.ExcelWriter(r\"\\\\172.26.100.99\\tmf\\Pratibha\\Scorecard_Daily_PD_Files\\Output_Files\\PD_Banding_29JAN22-30SEP22.xlsx\") as writer:\n",
    "#     All_data.to_excel(writer, sheet_name='NEW VEH',index= False)\n",
    "#     All_data_used.to_excel(writer, sheet_name='USED VEH',index= False)\n",
    "#     All_data_pv.to_excel(writer, sheet_name='PV',index= False)"
   ]
  },
  {
   "cell_type": "code",
   "execution_count": 22,
   "id": "408c4405",
   "metadata": {},
   "outputs": [],
   "source": [
    "# with pd.ExcelWriter(r'D:\\PD_MAPPING\\PD_TILL_23_NOV.xlsx') as writer:\n",
    "with pd.ExcelWriter(r'D:\\PD_MAPPING\\PD_23_NOV.xlsx') as writer:\n",
    "    All_data.to_excel(writer, sheet_name='NEW VEH',index= False)\n",
    "    All_data_used.to_excel(writer, sheet_name='USED VEH',index= False)\n",
    "    All_data_pv.to_excel(writer, sheet_name='PV',index= False)\n",
    "    df_ACE_NEW.to_excel(writer, sheet_name='ACE_New',index= False)\n",
    "#     df_ACE_OLD.to_excel(writer, sheet_name='ACE_old',index= False)\n",
    "    df_MHCV_NEW.to_excel(writer, sheet_name='MHCV_New',index= False)\n",
    "#     df_MHCV_OLD.to_excel(writer, sheet_name='MHCV_old',index= False)"
   ]
  },
  {
   "cell_type": "code",
   "execution_count": 36,
   "id": "5a008f15",
   "metadata": {},
   "outputs": [
    {
     "name": "stderr",
     "output_type": "stream",
     "text": [
      "C:\\Users\\523836\\Anaconda3\\lib\\site-packages\\pandas\\core\\tools\\datetimes.py:1047: UserWarning: Parsing '20/11/2022' in DD/MM/YYYY format. Provide format or specify infer_datetime_format=True for consistent parsing.\n",
      "  cache_array = _maybe_cache(arg, format, cache, convert_listlike)\n",
      "C:\\Users\\523836\\Anaconda3\\lib\\site-packages\\pandas\\core\\tools\\datetimes.py:1047: UserWarning: Parsing '21/11/2022' in DD/MM/YYYY format. Provide format or specify infer_datetime_format=True for consistent parsing.\n",
      "  cache_array = _maybe_cache(arg, format, cache, convert_listlike)\n",
      "C:\\Users\\523836\\Anaconda3\\lib\\site-packages\\pandas\\core\\tools\\datetimes.py:1047: UserWarning: Parsing '13/11/2022' in DD/MM/YYYY format. Provide format or specify infer_datetime_format=True for consistent parsing.\n",
      "  cache_array = _maybe_cache(arg, format, cache, convert_listlike)\n",
      "C:\\Users\\523836\\Anaconda3\\lib\\site-packages\\pandas\\core\\tools\\datetimes.py:1047: UserWarning: Parsing '14/11/2022' in DD/MM/YYYY format. Provide format or specify infer_datetime_format=True for consistent parsing.\n",
      "  cache_array = _maybe_cache(arg, format, cache, convert_listlike)\n",
      "C:\\Users\\523836\\Anaconda3\\lib\\site-packages\\pandas\\core\\tools\\datetimes.py:1047: UserWarning: Parsing '15/11/2022' in DD/MM/YYYY format. Provide format or specify infer_datetime_format=True for consistent parsing.\n",
      "  cache_array = _maybe_cache(arg, format, cache, convert_listlike)\n",
      "C:\\Users\\523836\\Anaconda3\\lib\\site-packages\\pandas\\core\\tools\\datetimes.py:1047: UserWarning: Parsing '16/11/2022' in DD/MM/YYYY format. Provide format or specify infer_datetime_format=True for consistent parsing.\n",
      "  cache_array = _maybe_cache(arg, format, cache, convert_listlike)\n",
      "C:\\Users\\523836\\Anaconda3\\lib\\site-packages\\pandas\\core\\tools\\datetimes.py:1047: UserWarning: Parsing '17/11/2022' in DD/MM/YYYY format. Provide format or specify infer_datetime_format=True for consistent parsing.\n",
      "  cache_array = _maybe_cache(arg, format, cache, convert_listlike)\n",
      "C:\\Users\\523836\\Anaconda3\\lib\\site-packages\\pandas\\core\\tools\\datetimes.py:1047: UserWarning: Parsing '18/11/2022' in DD/MM/YYYY format. Provide format or specify infer_datetime_format=True for consistent parsing.\n",
      "  cache_array = _maybe_cache(arg, format, cache, convert_listlike)\n",
      "C:\\Users\\523836\\Anaconda3\\lib\\site-packages\\pandas\\core\\tools\\datetimes.py:1047: UserWarning: Parsing '19/11/2022' in DD/MM/YYYY format. Provide format or specify infer_datetime_format=True for consistent parsing.\n",
      "  cache_array = _maybe_cache(arg, format, cache, convert_listlike)\n",
      "C:\\Users\\523836\\Anaconda3\\lib\\site-packages\\pandas\\core\\tools\\datetimes.py:1047: UserWarning: Parsing '22/11/2022' in DD/MM/YYYY format. Provide format or specify infer_datetime_format=True for consistent parsing.\n",
      "  cache_array = _maybe_cache(arg, format, cache, convert_listlike)\n",
      "C:\\Users\\523836\\Anaconda3\\lib\\site-packages\\pandas\\core\\tools\\datetimes.py:1047: UserWarning: Parsing '31/10/2022' in DD/MM/YYYY format. Provide format or specify infer_datetime_format=True for consistent parsing.\n",
      "  cache_array = _maybe_cache(arg, format, cache, convert_listlike)\n"
     ]
    },
    {
     "data": {
      "text/html": [
       "<div>\n",
       "<style scoped>\n",
       "    .dataframe tbody tr th:only-of-type {\n",
       "        vertical-align: middle;\n",
       "    }\n",
       "\n",
       "    .dataframe tbody tr th {\n",
       "        vertical-align: top;\n",
       "    }\n",
       "\n",
       "    .dataframe thead th {\n",
       "        text-align: right;\n",
       "    }\n",
       "</style>\n",
       "<table border=\"1\" class=\"dataframe\">\n",
       "  <thead>\n",
       "    <tr style=\"text-align: right;\">\n",
       "      <th></th>\n",
       "      <th>Ref ID</th>\n",
       "      <th>PD</th>\n",
       "      <th>SCORECARD_DECISION</th>\n",
       "      <th>SCORECARD</th>\n",
       "      <th>SCORECARD_PD</th>\n",
       "      <th>DATE</th>\n",
       "      <th>Product</th>\n",
       "      <th>Sub Product</th>\n",
       "      <th>Segment</th>\n",
       "      <th>DATE_V1</th>\n",
       "    </tr>\n",
       "  </thead>\n",
       "  <tbody>\n",
       "    <tr>\n",
       "      <th>0</th>\n",
       "      <td>R32422491325</td>\n",
       "      <td>NaN</td>\n",
       "      <td></td>\n",
       "      <td></td>\n",
       "      <td></td>\n",
       "      <td>20/11/2022</td>\n",
       "      <td>NEW_VH</td>\n",
       "      <td>MHCV</td>\n",
       "      <td>SRT1</td>\n",
       "      <td>2022-11-20</td>\n",
       "    </tr>\n",
       "    <tr>\n",
       "      <th>1</th>\n",
       "      <td>R32422491324</td>\n",
       "      <td>0.990236</td>\n",
       "      <td>Eligible</td>\n",
       "      <td>PV</td>\n",
       "      <td></td>\n",
       "      <td>20/11/2022</td>\n",
       "      <td>NEW_VH</td>\n",
       "      <td>PV</td>\n",
       "      <td>SENP</td>\n",
       "      <td>2022-11-20</td>\n",
       "    </tr>\n",
       "    <tr>\n",
       "      <th>2</th>\n",
       "      <td>R32422491286</td>\n",
       "      <td>0.792753</td>\n",
       "      <td>Credit Refer 2</td>\n",
       "      <td>MHCV</td>\n",
       "      <td></td>\n",
       "      <td>20/11/2022</td>\n",
       "      <td>NEW_VH</td>\n",
       "      <td>MHCV</td>\n",
       "      <td>FTU2</td>\n",
       "      <td>2022-11-20</td>\n",
       "    </tr>\n",
       "    <tr>\n",
       "      <th>3</th>\n",
       "      <td>R32422491308</td>\n",
       "      <td>0.749172</td>\n",
       "      <td>Credit Refer 2</td>\n",
       "      <td>ACE_INTRA</td>\n",
       "      <td></td>\n",
       "      <td>20/11/2022</td>\n",
       "      <td>NEW_VH</td>\n",
       "      <td>ILSCV</td>\n",
       "      <td>FTU1</td>\n",
       "      <td>2022-11-20</td>\n",
       "    </tr>\n",
       "    <tr>\n",
       "      <th>4</th>\n",
       "      <td>R32422491318</td>\n",
       "      <td>0.948943</td>\n",
       "      <td>Eligible</td>\n",
       "      <td>ICV_LCV_WINGER_BUS</td>\n",
       "      <td></td>\n",
       "      <td>20/11/2022</td>\n",
       "      <td>NEW_VH</td>\n",
       "      <td>ILSCV</td>\n",
       "      <td>NaN</td>\n",
       "      <td>2022-11-20</td>\n",
       "    </tr>\n",
       "  </tbody>\n",
       "</table>\n",
       "</div>"
      ],
      "text/plain": [
       "         Ref ID        PD SCORECARD_DECISION           SCORECARD SCORECARD_PD  \\\n",
       "0  R32422491325       NaN                                                       \n",
       "1  R32422491324  0.990236          Eligible                   PV                \n",
       "2  R32422491286  0.792753    Credit Refer 2                 MHCV                \n",
       "3  R32422491308  0.749172    Credit Refer 2            ACE_INTRA                \n",
       "4  R32422491318  0.948943          Eligible   ICV_LCV_WINGER_BUS                \n",
       "\n",
       "         DATE Product Sub Product Segment    DATE_V1  \n",
       "0  20/11/2022  NEW_VH        MHCV    SRT1 2022-11-20  \n",
       "1  20/11/2022  NEW_VH          PV    SENP 2022-11-20  \n",
       "2  20/11/2022  NEW_VH        MHCV    FTU2 2022-11-20  \n",
       "3  20/11/2022  NEW_VH       ILSCV    FTU1 2022-11-20  \n",
       "4  20/11/2022  NEW_VH       ILSCV     NaN 2022-11-20  "
      ]
     },
     "execution_count": 36,
     "metadata": {},
     "output_type": "execute_result"
    }
   ],
   "source": [
    "# MHCV\n",
    "# df['DATE_V1']=pd.to_datetime(df['DATE'])\n",
    "# df.shape\n",
    "# df.head()"
   ]
  },
  {
   "cell_type": "markdown",
   "id": "472f698d",
   "metadata": {},
   "source": [
    "# MHCV_SURAJ"
   ]
  },
  {
   "cell_type": "code",
   "execution_count": 41,
   "id": "edafee94",
   "metadata": {},
   "outputs": [
    {
     "name": "stdout",
     "output_type": "stream",
     "text": [
      "(190, 10)\n"
     ]
    }
   ],
   "source": [
    "# df_MHCV_OLD=df[(df['SCORECARD']=='MHCV') & (df['Product']=='NEW_VH') & (df['DATE_V1']<='2022-05-11') ]\n",
    "# print(df_MHCV_OLD.shape)"
   ]
  },
  {
   "cell_type": "code",
   "execution_count": 48,
   "id": "e128257d",
   "metadata": {},
   "outputs": [
    {
     "name": "stderr",
     "output_type": "stream",
     "text": [
      "C:\\Users\\523836\\AppData\\Local\\Temp\\ipykernel_9456\\1305903783.py:1: SettingWithCopyWarning: \n",
      "A value is trying to be set on a copy of a slice from a DataFrame.\n",
      "Try using .loc[row_indexer,col_indexer] = value instead\n",
      "\n",
      "See the caveats in the documentation: https://pandas.pydata.org/pandas-docs/stable/user_guide/indexing.html#returning-a-view-versus-a-copy\n",
      "  df_MHCV_OLD['SCORECARD_PD']=df_MHCV_OLD['SCORECARD_PD'].str.strip()\n",
      "C:\\Users\\523836\\AppData\\Local\\Temp\\ipykernel_9456\\1305903783.py:2: SettingWithCopyWarning: \n",
      "A value is trying to be set on a copy of a slice from a DataFrame.\n",
      "Try using .loc[row_indexer,col_indexer] = value instead\n",
      "\n",
      "See the caveats in the documentation: https://pandas.pydata.org/pandas-docs/stable/user_guide/indexing.html#returning-a-view-versus-a-copy\n",
      "  df_MHCV_OLD['SCORECARD_PD']=pd.to_numeric(df_MHCV_OLD['SCORECARD_PD'])\n"
     ]
    }
   ],
   "source": [
    "# df_MHCV_OLD['SCORECARD_PD']=df_MHCV_OLD['SCORECARD_PD'].str.strip()\n",
    "# df_MHCV_OLD['SCORECARD_PD']=pd.to_numeric(df_MHCV_OLD['SCORECARD_PD'])"
   ]
  },
  {
   "cell_type": "code",
   "execution_count": 49,
   "id": "016ecbe5",
   "metadata": {},
   "outputs": [
    {
     "name": "stderr",
     "output_type": "stream",
     "text": [
      "C:\\Users\\523836\\AppData\\Local\\Temp\\ipykernel_9456\\2355038784.py:1: SettingWithCopyWarning: \n",
      "A value is trying to be set on a copy of a slice from a DataFrame.\n",
      "Try using .loc[row_indexer,col_indexer] = value instead\n",
      "\n",
      "See the caveats in the documentation: https://pandas.pydata.org/pandas-docs/stable/user_guide/indexing.html#returning-a-view-versus-a-copy\n",
      "  df_MHCV_OLD['NEW_PD']= df_MHCV_OLD['SCORECARD_PD']/100\n"
     ]
    }
   ],
   "source": [
    "# df_MHCV_OLD['NEW_PD']= df_MHCV_OLD['SCORECARD_PD']/100"
   ]
  },
  {
   "cell_type": "code",
   "execution_count": 51,
   "id": "69d5f634",
   "metadata": {},
   "outputs": [
    {
     "name": "stderr",
     "output_type": "stream",
     "text": [
      "C:\\Users\\523836\\AppData\\Local\\Temp\\ipykernel_9456\\3625772528.py:25: SettingWithCopyWarning: \n",
      "A value is trying to be set on a copy of a slice from a DataFrame.\n",
      "Try using .loc[row_indexer,col_indexer] = value instead\n",
      "\n",
      "See the caveats in the documentation: https://pandas.pydata.org/pandas-docs/stable/user_guide/indexing.html#returning-a-view-versus-a-copy\n",
      "  df_MHCV_OLD['Band']=df_MHCV_OLD.apply(mhcv ,axis=1)\n"
     ]
    },
    {
     "data": {
      "text/plain": [
       "0"
      ]
     },
     "execution_count": 51,
     "metadata": {},
     "output_type": "execute_result"
    }
   ],
   "source": [
    "# def mhcv(x):\n",
    "#     if x['NEW_PD']<=0.1000:\n",
    "#         return '10'\n",
    "#     elif x['NEW_PD']<=0.2000:\n",
    "#         return '9'\n",
    "#     elif x['NEW_PD']<=0.3000:\n",
    "#         return '8'\n",
    "#     elif x['NEW_PD']<=0.4000:\n",
    "#         return '7'\n",
    "#     elif x['NEW_PD']<=0.5000:\n",
    "#         return '6'\n",
    "#     elif x['NEW_PD']<=0.5988:\n",
    "#         return '5'\n",
    "#     elif x['NEW_PD']<=0.6993:\n",
    "#         return '4'\n",
    "#     elif x['NEW_PD']<=0.7874:\n",
    "#         return '3'\n",
    "#     elif x['NEW_PD']<=0.8929:\n",
    "#         return '2'\n",
    "#     elif x['NEW_PD']>0.8929:\n",
    "#         return '1'\n",
    "#     else:\n",
    "#         return ''\n",
    "    \n",
    "# df_MHCV_OLD['Band']=df_MHCV_OLD.apply(mhcv ,axis=1)\n",
    "# df_MHCV_OLD['Band'].isnull().sum()"
   ]
  },
  {
   "cell_type": "code",
   "execution_count": 53,
   "id": "29e5315e",
   "metadata": {},
   "outputs": [
    {
     "data": {
      "text/plain": [
       "      118\n",
       "10     56\n",
       "9      12\n",
       "8       3\n",
       "7       1\n",
       "Name: Band, dtype: int64"
      ]
     },
     "execution_count": 53,
     "metadata": {},
     "output_type": "execute_result"
    }
   ],
   "source": [
    "# df_MHCV_OLD['Band'].value_counts()"
   ]
  },
  {
   "cell_type": "code",
   "execution_count": 18,
   "id": "508ffec0",
   "metadata": {
    "scrolled": true
   },
   "outputs": [
    {
     "name": "stdout",
     "output_type": "stream",
     "text": [
      "(48, 8)\n"
     ]
    }
   ],
   "source": [
    "# df_MHCV_NEW=df[(df['SCORECARD']=='MHCV') & (df['Product']=='NEW_VH') & (df['DATE_V1']>'2022-05-11')]\n",
    "df_MHCV_NEW=df[(df['SCORECARD']=='MHCV') & (df['Product']=='NEW_VH')]\n",
    "print(df_MHCV_NEW.shape)"
   ]
  },
  {
   "cell_type": "code",
   "execution_count": 19,
   "id": "6af4157f",
   "metadata": {},
   "outputs": [
    {
     "name": "stderr",
     "output_type": "stream",
     "text": [
      "C:\\Users\\523836\\AppData\\Local\\Temp\\ipykernel_9316\\2392621734.py:25: SettingWithCopyWarning: \n",
      "A value is trying to be set on a copy of a slice from a DataFrame.\n",
      "Try using .loc[row_indexer,col_indexer] = value instead\n",
      "\n",
      "See the caveats in the documentation: https://pandas.pydata.org/pandas-docs/stable/user_guide/indexing.html#returning-a-view-versus-a-copy\n",
      "  df_MHCV_NEW['Band']=df_MHCV_NEW.apply(mhcv ,axis=1)\n"
     ]
    },
    {
     "data": {
      "text/plain": [
       "0"
      ]
     },
     "execution_count": 19,
     "metadata": {},
     "output_type": "execute_result"
    }
   ],
   "source": [
    "def mhcv(x):\n",
    "    if x['PD']<=0.5692974:\n",
    "        return '1'\n",
    "    elif x['PD']<=0.6462935:\n",
    "        return '2'\n",
    "    elif x['PD']<=0.6990957:\n",
    "        return '3'\n",
    "    elif x['PD']<=0.7424209:\n",
    "        return '4'\n",
    "    elif x['PD']<=0.7791975:\n",
    "        return '5'\n",
    "    elif x['PD']<=0.8120312:\n",
    "        return '6'\n",
    "    elif x['PD']<=0.8442754:\n",
    "        return '7'\n",
    "    elif x['PD']<=0.8781938:\n",
    "        return '8'\n",
    "    elif x['PD']<=0.9182979:\n",
    "        return '9'\n",
    "    elif x['PD']>0.9182979:\n",
    "        return '10'\n",
    "    else:\n",
    "        return ''\n",
    "    \n",
    "df_MHCV_NEW['Band']=df_MHCV_NEW.apply(mhcv ,axis=1)\n",
    "df_MHCV_NEW['Band'].isnull().sum()"
   ]
  },
  {
   "cell_type": "markdown",
   "id": "7b1563d7",
   "metadata": {},
   "source": [
    "# ACE_SURAJ"
   ]
  },
  {
   "cell_type": "code",
   "execution_count": 43,
   "id": "0b51f25b",
   "metadata": {},
   "outputs": [
    {
     "name": "stdout",
     "output_type": "stream",
     "text": [
      "(957, 10)\n"
     ]
    }
   ],
   "source": [
    "# df_ACE_OLD=df[(df['SCORECARD']=='ACE_INTRA') & (df['Product']=='NEW_VH') & (df['DATE_V1']<='2022-07-11') ]\n",
    "# print(df_ACE_OLD.shape)"
   ]
  },
  {
   "cell_type": "code",
   "execution_count": 55,
   "id": "47731e79",
   "metadata": {},
   "outputs": [
    {
     "name": "stderr",
     "output_type": "stream",
     "text": [
      "C:\\Users\\523836\\AppData\\Local\\Temp\\ipykernel_9456\\2982876035.py:1: SettingWithCopyWarning: \n",
      "A value is trying to be set on a copy of a slice from a DataFrame.\n",
      "Try using .loc[row_indexer,col_indexer] = value instead\n",
      "\n",
      "See the caveats in the documentation: https://pandas.pydata.org/pandas-docs/stable/user_guide/indexing.html#returning-a-view-versus-a-copy\n",
      "  df_ACE_OLD['SCORECARD_PD']=df_ACE_OLD['SCORECARD_PD'].str.strip()\n",
      "C:\\Users\\523836\\AppData\\Local\\Temp\\ipykernel_9456\\2982876035.py:2: SettingWithCopyWarning: \n",
      "A value is trying to be set on a copy of a slice from a DataFrame.\n",
      "Try using .loc[row_indexer,col_indexer] = value instead\n",
      "\n",
      "See the caveats in the documentation: https://pandas.pydata.org/pandas-docs/stable/user_guide/indexing.html#returning-a-view-versus-a-copy\n",
      "  df_ACE_OLD['SCORECARD_PD']=pd.to_numeric(df_ACE_OLD['SCORECARD_PD'])\n"
     ]
    }
   ],
   "source": [
    "# df_ACE_OLD['SCORECARD_PD']=df_ACE_OLD['SCORECARD_PD'].str.strip()\n",
    "# df_ACE_OLD['SCORECARD_PD']=pd.to_numeric(df_ACE_OLD['SCORECARD_PD'])"
   ]
  },
  {
   "cell_type": "code",
   "execution_count": 56,
   "id": "aecba54e",
   "metadata": {},
   "outputs": [
    {
     "name": "stderr",
     "output_type": "stream",
     "text": [
      "C:\\Users\\523836\\AppData\\Local\\Temp\\ipykernel_9456\\137725708.py:1: SettingWithCopyWarning: \n",
      "A value is trying to be set on a copy of a slice from a DataFrame.\n",
      "Try using .loc[row_indexer,col_indexer] = value instead\n",
      "\n",
      "See the caveats in the documentation: https://pandas.pydata.org/pandas-docs/stable/user_guide/indexing.html#returning-a-view-versus-a-copy\n",
      "  df_ACE_OLD['NEW_PD']= df_ACE_OLD['SCORECARD_PD']/100\n"
     ]
    }
   ],
   "source": [
    "# df_ACE_OLD['NEW_PD']= df_ACE_OLD['SCORECARD_PD']/100"
   ]
  },
  {
   "cell_type": "code",
   "execution_count": 57,
   "id": "8444110c",
   "metadata": {},
   "outputs": [
    {
     "name": "stderr",
     "output_type": "stream",
     "text": [
      "C:\\Users\\523836\\AppData\\Local\\Temp\\ipykernel_9456\\1154077599.py:25: SettingWithCopyWarning: \n",
      "A value is trying to be set on a copy of a slice from a DataFrame.\n",
      "Try using .loc[row_indexer,col_indexer] = value instead\n",
      "\n",
      "See the caveats in the documentation: https://pandas.pydata.org/pandas-docs/stable/user_guide/indexing.html#returning-a-view-versus-a-copy\n",
      "  df_ACE_OLD['Band']=df_ACE_OLD.apply(ace ,axis=1)\n"
     ]
    },
    {
     "data": {
      "text/plain": [
       "0"
      ]
     },
     "execution_count": 57,
     "metadata": {},
     "output_type": "execute_result"
    }
   ],
   "source": [
    "# def ace(x):\n",
    "#     if x['NEW_PD']<=0.1000:\n",
    "#         return '10'\n",
    "#     elif x['NEW_PD']<=0.2000:\n",
    "#         return '9'\n",
    "#     elif x['NEW_PD']<=0.3000:\n",
    "#         return '8'\n",
    "#     elif x['NEW_PD']<=0.4000:\n",
    "#         return '7'\n",
    "#     elif x['NEW_PD']<=0.5000:\n",
    "#         return '6'\n",
    "#     elif x['NEW_PD']<=0.6000:\n",
    "#         return '5'\n",
    "#     elif x['NEW_PD']<=0.6993:\n",
    "#         return '4'\n",
    "#     elif x['NEW_PD']<=0.8000:\n",
    "#         return '3'\n",
    "#     elif x['NEW_PD']<=0.8929:\n",
    "#         return '2'\n",
    "#     elif x['NEW_PD']>0.8929:\n",
    "#         return '1'\n",
    "#     else:\n",
    "#         return ''\n",
    "    \n",
    "# df_ACE_OLD['Band']=df_ACE_OLD.apply(ace ,axis=1)\n",
    "# df_ACE_OLD['Band'].isnull().sum()"
   ]
  },
  {
   "cell_type": "code",
   "execution_count": 20,
   "id": "e93b25b2",
   "metadata": {},
   "outputs": [
    {
     "name": "stdout",
     "output_type": "stream",
     "text": [
      "(88, 8)\n"
     ]
    }
   ],
   "source": [
    "# df_ACE_NEW=df[(df['SCORECARD']=='ACE_INTRA') & (df['Product']=='NEW_VH') & (df['DATE_V1']>'2022-07-11')]\n",
    "df_ACE_NEW=df[(df['SCORECARD']=='ACE_INTRA') & (df['Product']=='NEW_VH')]\n",
    "print(df_ACE_NEW.shape)"
   ]
  },
  {
   "cell_type": "code",
   "execution_count": 21,
   "id": "e83f9d88",
   "metadata": {},
   "outputs": [
    {
     "name": "stderr",
     "output_type": "stream",
     "text": [
      "C:\\Users\\523836\\AppData\\Local\\Temp\\ipykernel_9316\\3702425629.py:25: SettingWithCopyWarning: \n",
      "A value is trying to be set on a copy of a slice from a DataFrame.\n",
      "Try using .loc[row_indexer,col_indexer] = value instead\n",
      "\n",
      "See the caveats in the documentation: https://pandas.pydata.org/pandas-docs/stable/user_guide/indexing.html#returning-a-view-versus-a-copy\n",
      "  df_ACE_NEW['Band']=df_ACE_NEW.apply(ace ,axis=1)\n"
     ]
    },
    {
     "data": {
      "text/plain": [
       "0"
      ]
     },
     "execution_count": 21,
     "metadata": {},
     "output_type": "execute_result"
    }
   ],
   "source": [
    "def ace(x):\n",
    "    if x['PD']<=0.6157028:\n",
    "        return '1'\n",
    "    elif x['PD']<=0.6960473:\n",
    "        return '2'\n",
    "    elif x['PD']<=0.7480454:\n",
    "        return '3'\n",
    "    elif x['PD']<=0.7875239:\n",
    "        return '4'\n",
    "    elif x['PD']<=0.8211042:\n",
    "        return '5'\n",
    "    elif x['PD']<=0.8506518:\n",
    "        return '6'\n",
    "    elif x['PD']<=0.877683:\n",
    "        return '7'\n",
    "    elif x['PD']<=0.9057813:\n",
    "        return '8'\n",
    "    elif x['PD']<=0.9377053:\n",
    "        return '9'\n",
    "    elif x['PD']>0.9377053:\n",
    "        return '10'\n",
    "    else:\n",
    "        return ''\n",
    "    \n",
    "df_ACE_NEW['Band']=df_ACE_NEW.apply(ace ,axis=1)\n",
    "df_ACE_NEW['Band'].isnull().sum()"
   ]
  },
  {
   "cell_type": "code",
   "execution_count": 73,
   "id": "180bd4f4",
   "metadata": {
    "scrolled": true
   },
   "outputs": [
    {
     "name": "stdout",
     "output_type": "stream",
     "text": [
      "(469, 8)\n"
     ]
    }
   ],
   "source": [
    "# df_MHCV=df[(df['SCORECARD']=='MHCV') & (df['Product']=='NEW_VH')]\n",
    "# df_MHCV.reset_index(drop=True,inplace=True)\n",
    "# print(df_MHCV.shape)\n",
    "# (5918, 20)"
   ]
  },
  {
   "cell_type": "code",
   "execution_count": 75,
   "id": "3b2f1eef",
   "metadata": {},
   "outputs": [
    {
     "name": "stderr",
     "output_type": "stream",
     "text": [
      "<ipython-input-75-35644c8f4fcd>:25: SettingWithCopyWarning: \n",
      "A value is trying to be set on a copy of a slice from a DataFrame.\n",
      "Try using .loc[row_indexer,col_indexer] = value instead\n",
      "\n",
      "See the caveats in the documentation: https://pandas.pydata.org/pandas-docs/stable/user_guide/indexing.html#returning-a-view-versus-a-copy\n",
      "  df_MHCV['Band']=df_MHCV.apply(mhcv ,axis=1)\n"
     ]
    },
    {
     "data": {
      "text/plain": [
       "0"
      ]
     },
     "execution_count": 75,
     "metadata": {},
     "output_type": "execute_result"
    }
   ],
   "source": [
    "# def mhcv(x):\n",
    "#     if x['PD']<=0.5692974:\n",
    "#         return '1'\n",
    "#     elif x['PD']<=0.6462935:\n",
    "#         return '2'\n",
    "#     elif x['PD']<=0.6990957:\n",
    "#         return '3'\n",
    "#     elif x['PD']<=0.7424209:\n",
    "#         return '4'\n",
    "#     elif x['PD']<=0.7791975:\n",
    "#         return '5'\n",
    "#     elif x['PD']<=0.8120312:\n",
    "#         return '6'\n",
    "#     elif x['PD']<=0.8442754:\n",
    "#         return '7'\n",
    "#     elif x['PD']<=0.8781938:\n",
    "#         return '8'\n",
    "#     elif x['PD']<=0.9182979:\n",
    "#         return '9'\n",
    "#     elif x['PD']>0.9182979:\n",
    "#         return '10'\n",
    "#     else:\n",
    "#         return ''\n",
    "    \n",
    "# df_MHCV['Band']=df_MHCV.apply(mhcv ,axis=1)\n",
    "# df_MHCV['Band'].isnull().sum()"
   ]
  },
  {
   "cell_type": "code",
   "execution_count": 48,
   "id": "49477d2d",
   "metadata": {},
   "outputs": [
    {
     "name": "stderr",
     "output_type": "stream",
     "text": [
      "<ipython-input-48-9d22a61ceddc>:25: SettingWithCopyWarning: \n",
      "A value is trying to be set on a copy of a slice from a DataFrame.\n",
      "Try using .loc[row_indexer,col_indexer] = value instead\n",
      "\n",
      "See the caveats in the documentation: https://pandas.pydata.org/pandas-docs/stable/user_guide/indexing.html#returning-a-view-versus-a-copy\n",
      "  df_MHCV['Band']=df_MHCV.apply(mhcv ,axis=1)\n"
     ]
    },
    {
     "data": {
      "text/plain": [
       "0"
      ]
     },
     "execution_count": 48,
     "metadata": {},
     "output_type": "execute_result"
    }
   ],
   "source": [
    "# def mhcv(x):\n",
    "#     if x['NEW_PD']<=0.1000:\n",
    "#         return '10'\n",
    "#     elif x['NEW_PD']<=0.2000:\n",
    "#         return '9'\n",
    "#     elif x['NEW_PD']<=0.3000:\n",
    "#         return '8'\n",
    "#     elif x['NEW_PD']<=0.4000:\n",
    "#         return '7'\n",
    "#     elif x['NEW_PD']<=0.5000:\n",
    "#         return '6'\n",
    "#     elif x['NEW_PD']<=0.5988:\n",
    "#         return '5'\n",
    "#     elif x['NEW_PD']<=0.6993:\n",
    "#         return '4'\n",
    "#     elif x['NEW_PD']<=0.7874:\n",
    "#         return '3'\n",
    "#     elif x['NEW_PD']<=0.8929:\n",
    "#         return '2'\n",
    "#     elif x['NEW_PD']>0.8929:\n",
    "#         return '1'\n",
    "#     else:\n",
    "#         return ''\n",
    "    \n",
    "# df_MHCV['Band']=df_MHCV.apply(mhcv ,axis=1)\n",
    "# df_MHCV['Band'].isnull().sum()"
   ]
  },
  {
   "cell_type": "code",
   "execution_count": 76,
   "id": "f3150d1e",
   "metadata": {},
   "outputs": [
    {
     "name": "stdout",
     "output_type": "stream",
     "text": [
      "(1229, 8)\n"
     ]
    }
   ],
   "source": [
    "df_ACE_INTRA=df[(df['SCORECARD']=='ACE_INTRA') & (df['Product']=='NEW_VH')]\n",
    "df_ACE_INTRA.reset_index(drop=True,inplace=True)\n",
    "print(df_ACE_INTRA.shape)\n",
    "# (5918, 20)"
   ]
  },
  {
   "cell_type": "code",
   "execution_count": 77,
   "id": "cb4feb25",
   "metadata": {},
   "outputs": [
    {
     "name": "stderr",
     "output_type": "stream",
     "text": [
      "<ipython-input-77-f95fa61021d4>:25: SettingWithCopyWarning: \n",
      "A value is trying to be set on a copy of a slice from a DataFrame.\n",
      "Try using .loc[row_indexer,col_indexer] = value instead\n",
      "\n",
      "See the caveats in the documentation: https://pandas.pydata.org/pandas-docs/stable/user_guide/indexing.html#returning-a-view-versus-a-copy\n",
      "  df_ACE_INTRA['Band']=df_ACE_INTRA.apply(ace ,axis=1)\n"
     ]
    },
    {
     "data": {
      "text/plain": [
       "0"
      ]
     },
     "execution_count": 77,
     "metadata": {},
     "output_type": "execute_result"
    }
   ],
   "source": [
    "def ace(x):\n",
    "    if x['PD']<=0.6157028:\n",
    "        return '1'\n",
    "    elif x['PD']<=0.6960473:\n",
    "        return '2'\n",
    "    elif x['PD']<=0.7480454:\n",
    "        return '3'\n",
    "    elif x['PD']<=0.7875239:\n",
    "        return '4'\n",
    "    elif x['PD']<=0.8211042:\n",
    "        return '5'\n",
    "    elif x['PD']<=0.8506518:\n",
    "        return '6'\n",
    "    elif x['PD']<=0.877683:\n",
    "        return '7'\n",
    "    elif x['PD']<=0.9057813:\n",
    "        return '8'\n",
    "    elif x['PD']<=0.9377053:\n",
    "        return '9'\n",
    "    elif x['PD']>0.9377053:\n",
    "        return '10'\n",
    "    else:\n",
    "        return ''\n",
    "    \n",
    "df_ACE_INTRA['Band']=df_ACE_INTRA.apply(ace ,axis=1)\n",
    "df_ACE_INTRA['Band'].isnull().sum()"
   ]
  },
  {
   "cell_type": "code",
   "execution_count": 50,
   "id": "3c8f96b2",
   "metadata": {},
   "outputs": [
    {
     "name": "stderr",
     "output_type": "stream",
     "text": [
      "<ipython-input-50-abfea63cec95>:25: SettingWithCopyWarning: \n",
      "A value is trying to be set on a copy of a slice from a DataFrame.\n",
      "Try using .loc[row_indexer,col_indexer] = value instead\n",
      "\n",
      "See the caveats in the documentation: https://pandas.pydata.org/pandas-docs/stable/user_guide/indexing.html#returning-a-view-versus-a-copy\n",
      "  df_ACE_INTRA['Band']=df_ACE_INTRA.apply(ace ,axis=1)\n"
     ]
    },
    {
     "data": {
      "text/plain": [
       "0"
      ]
     },
     "execution_count": 50,
     "metadata": {},
     "output_type": "execute_result"
    }
   ],
   "source": [
    "# def ace(x):\n",
    "#     if x['NEW_PD']<=0.1000:\n",
    "#         return '10'\n",
    "#     elif x['NEW_PD']<=0.2000:\n",
    "#         return '9'\n",
    "#     elif x['NEW_PD']<=0.3000:\n",
    "#         return '8'\n",
    "#     elif x['NEW_PD']<=0.4000:\n",
    "#         return '7'\n",
    "#     elif x['NEW_PD']<=0.5000:\n",
    "#         return '6'\n",
    "#     elif x['NEW_PD']<=0.6000:\n",
    "#         return '5'\n",
    "#     elif x['NEW_PD']<=0.6993:\n",
    "#         return '4'\n",
    "#     elif x['NEW_PD']<=0.8000:\n",
    "#         return '3'\n",
    "#     elif x['NEW_PD']<=0.8929:\n",
    "#         return '2'\n",
    "#     elif x['NEW_PD']>0.8929:\n",
    "#         return '1'\n",
    "#     else:\n",
    "#         return ''\n",
    "    \n",
    "# df_ACE_INTRA['Band']=df_ACE_INTRA.apply(ace ,axis=1)\n",
    "# df_ACE_INTRA['Band'].isnull().sum()"
   ]
  },
  {
   "cell_type": "code",
   "execution_count": 78,
   "id": "5c4637f4",
   "metadata": {},
   "outputs": [
    {
     "data": {
      "text/plain": [
       "(1698, 9)"
      ]
     },
     "execution_count": 78,
     "metadata": {},
     "output_type": "execute_result"
    }
   ],
   "source": [
    "Data_MHCV_ACE= pd.concat([df_MHCV,df_ACE_INTRA])\n",
    "Data_MHCV_ACE.shape"
   ]
  },
  {
   "cell_type": "code",
   "execution_count": null,
   "id": "1b53380a",
   "metadata": {},
   "outputs": [],
   "source": [
    "34758+5918"
   ]
  },
  {
   "cell_type": "code",
   "execution_count": null,
   "id": "7890c044",
   "metadata": {},
   "outputs": [],
   "source": [
    "Data_MHCV_ACE.to_excel(r'C:\\Users\\523068\\Desktop\\new_pd_banding_ace_mhcv.xlsx', index= False)"
   ]
  },
  {
   "cell_type": "markdown",
   "id": "5ff2146e",
   "metadata": {},
   "source": [
    "# Whole_Data"
   ]
  },
  {
   "cell_type": "code",
   "execution_count": 2,
   "id": "fa521326",
   "metadata": {},
   "outputs": [
    {
     "name": "stdout",
     "output_type": "stream",
     "text": [
      "(193094, 100)\n"
     ]
    }
   ],
   "source": [
    "whole_data=pd.read_excel(r\"D:\\PD_MAPPING\\Whole_data\\Whole data 1st Jan_28th Nov.xlsx\",sheet_name= 'DATA')\n",
    "print(whole_data.shape)"
   ]
  },
  {
   "cell_type": "code",
   "execution_count": 3,
   "id": "ce79754a",
   "metadata": {},
   "outputs": [
    {
     "name": "stdout",
     "output_type": "stream",
     "text": [
      "(5424, 77)\n"
     ]
    }
   ],
   "source": [
    "RO_File =pd.read_excel(r\"D:\\PD_MAPPING\\LOS_DATA_ALL_OTHER_THINGS\\LTV_CO_IRR.xlsx\")\n",
    "print(RO_File.shape)"
   ]
  },
  {
   "cell_type": "code",
   "execution_count": 4,
   "id": "e602ba94",
   "metadata": {
    "scrolled": true
   },
   "outputs": [
    {
     "name": "stdout",
     "output_type": "stream",
     "text": [
      "Index(['Region', 'Zone', 'Branch Name', 'Leads Id', 'Ref ID', 'Login Date',\n",
      "       'Customer Name', 'Application Stage', ' Application Status', 'Product',\n",
      "       'Sub Product', 'Product Variant', 'Lead Created Id', 'Lead Assigned Id',\n",
      "       'Lead Created By', 'Total Loan Amount', 'Loan Amount', 'CPA User Id',\n",
      "       'CPC Skip', 'Credit Completed Date', 'Credit User Id', ' RCU Status',\n",
      "       ' FI Final Status', 'Lead source', 'Scheme Code',\n",
      "       'Sales Approval Status', 'Supplier Name', 'Date of RO Generation',\n",
      "       'Segment', 'Sourcing Channel', 'Sourcing Channel Name', 'BDM SAP Code',\n",
      "       'Net Ex-showroom Price Rs/Invoice Amount', 'On Road Price Rs',\n",
      "       'On Road LTV%', 'No. of EMI (Months)', 'Contract Number\\t', 'RO Number',\n",
      "       'Applicant Category', 'Customer Type', 'Repayment Mode', 'Company IRR',\n",
      "       'PSL', 'Applicant Date Of Birth', 'Primary Vehicle Application',\n",
      "       'Secondary Vehicle Application', 'STP Flag',\n",
      "       'Credit Remarks ( Decision Remarks)', 'Dedupe Status', ' Cibil Status',\n",
      "       'Tenure In Years', 'BDM Name', 'Rejected By', 'EMAIL ID',\n",
      "       'Primary Customer Mobile No', 'Contract Date',\n",
      "       ' Final Risk Model Decision', 'Policy Decision', 'Score Decision ',\n",
      "       'Final IRR', 'Fuel Type', 'Pan _ Application Kyc Number',\n",
      "       'Mobile Number of Office Address', 'Mobile Number of Permanent Address',\n",
      "       'Driving License Class', 'Property Type', 'Cross Sell Product 1',\n",
      "       'Cross Sell Product 2', 'Insurance Provision Amt', 'Stamping Required',\n",
      "       'Customer Requested Stamp Duty', 'Dealer Stamping', 'DSRA Amount',\n",
      "       'Document Charges', 'Customer Requested Document Charges',\n",
      "       'Dealer Commission', 'Stamp Affixed', 'Constitution', 'DSE Code',\n",
      "       'DSE Name', 'Customer IRR', 'Vendor Details', 'Insert Date',\n",
      "       'Primary Customer Mobile No.1', 'Last Action Date', 'Product Variant.1',\n",
      "       'Data Source ', 'Soft pull Decision ', 'Finnov Status ',\n",
      "       'Scorecard PD Band ', 'Repayment Bank Details', 'Hospicash',\n",
      "       'Login Date 2', 'Year Month', 'CONNO', 'SCORECARD_NAME', 'Band', 'PD',\n",
      "       ' SCORECARD_PD ', 'FIN_AMOUNT'],\n",
      "      dtype='object')\n",
      "Index(['CUSTOMER', 'Contract No', 'RO Number', 'Sales Office Name',\n",
      "       'Sales Office', 'MSP', 'BDM', 'Product Description', 'Finance Product',\n",
      "       'Type of Contract', 'Supplier', 'Dis.Channel', 'Division', 'DSA',\n",
      "       'Introducer code', 'DSM code', 'Norms', 'Usage', 'Sourcing Type',\n",
      "       'FAN no', 'Contract Inception Date', 'Finance Amount', 'Tenure',\n",
      "       'Disb date', 'Cust IRR', 'CUSTOMER CODE', 'Supplier Name', 'RC No',\n",
      "       'Dist Amt Financier', 'Branch Name', 'DSA Name', 'Branch Code',\n",
      "       'Dealer Invoice No', 'Company Code', 'Father/Husband Name', 'Chssis No',\n",
      "       'PDC FLAG', 'RC Status', 'Customer Attribute', 'Introducer Name',\n",
      "       'DSM Name', 'RO Date', 'Contract Date', 'CO IRR', 'Advance EMI Amt',\n",
      "       'Dealer Subvention', 'Negative Subvention', 'Dealer Invoice Amt',\n",
      "       'Doc Charges', 'Manufacture Subvention', 'Service Charges',\n",
      "       'Down Payment', 'Stamping Charges', 'Dealer Invoice Date',\n",
      "       'Current RO Status', 'Aggr Name', 'CNG Disb', 'MOB Disb', 'INS Disb',\n",
      "       'AS1 Disb', 'AS2 Disb', 'Cr Shield Amt', 'Insurance Pro Amt',\n",
      "       'Disb Amt DSA/DDSA', 'Disb Amt to Seller', 'Disb Amt Cust/CoBorrower',\n",
      "       'Disb Amt TML Ven/RSO', 'RO Cancel Date', 'AdminFee Amt', 'DSRA',\n",
      "       'Ins Fnd Dealer', 'Ins Fnd Insu Com', 'Special Deductn',\n",
      "       'Health & Wellness', 'Referral', 'Asset Value', 'LTV'],\n",
      "      dtype='object')\n"
     ]
    }
   ],
   "source": [
    "print(whole_data.columns)\n",
    "print(RO_File.columns)"
   ]
  },
  {
   "cell_type": "code",
   "execution_count": 6,
   "id": "21db3871",
   "metadata": {},
   "outputs": [],
   "source": [
    "new_data=whole_data.merge(RO_File[['Contract No','Finance Amount','CO IRR','LTV']],how='left',left_on='CONNO', right_on='Contract No')"
   ]
  },
  {
   "cell_type": "code",
   "execution_count": 7,
   "id": "99982a9a",
   "metadata": {},
   "outputs": [
    {
     "name": "stdout",
     "output_type": "stream",
     "text": [
      "(193094, 104)\n"
     ]
    }
   ],
   "source": [
    "print(new_data.shape)"
   ]
  },
  {
   "cell_type": "code",
   "execution_count": 9,
   "id": "64664acd",
   "metadata": {
    "scrolled": true
   },
   "outputs": [
    {
     "data": {
      "text/html": [
       "<div>\n",
       "<style scoped>\n",
       "    .dataframe tbody tr th:only-of-type {\n",
       "        vertical-align: middle;\n",
       "    }\n",
       "\n",
       "    .dataframe tbody tr th {\n",
       "        vertical-align: top;\n",
       "    }\n",
       "\n",
       "    .dataframe thead th {\n",
       "        text-align: right;\n",
       "    }\n",
       "</style>\n",
       "<table border=\"1\" class=\"dataframe\">\n",
       "  <thead>\n",
       "    <tr style=\"text-align: right;\">\n",
       "      <th></th>\n",
       "      <th>Region</th>\n",
       "      <th>Zone</th>\n",
       "      <th>Branch Name</th>\n",
       "      <th>Leads Id</th>\n",
       "      <th>Ref ID</th>\n",
       "      <th>Login Date</th>\n",
       "      <th>Customer Name</th>\n",
       "      <th>Application Stage</th>\n",
       "      <th>Application Status</th>\n",
       "      <th>Product</th>\n",
       "      <th>...</th>\n",
       "      <th>CONNO</th>\n",
       "      <th>SCORECARD_NAME</th>\n",
       "      <th>Band</th>\n",
       "      <th>PD</th>\n",
       "      <th>SCORECARD_PD</th>\n",
       "      <th>FIN_AMOUNT</th>\n",
       "      <th>Contract No</th>\n",
       "      <th>Finance Amount</th>\n",
       "      <th>CO IRR</th>\n",
       "      <th>LTV</th>\n",
       "    </tr>\n",
       "  </thead>\n",
       "  <tbody>\n",
       "    <tr>\n",
       "      <th>0</th>\n",
       "      <td>WEST-1</td>\n",
       "      <td>THANE</td>\n",
       "      <td>TMFL THANE</td>\n",
       "      <td>A11821160656</td>\n",
       "      <td>NaN</td>\n",
       "      <td>13-01-2022</td>\n",
       "      <td>ARAVIND KUMAR SINGH ARAVIND KUMAR SINGH XxX</td>\n",
       "      <td>Enquiry</td>\n",
       "      <td>New Lead</td>\n",
       "      <td>USED_VH</td>\n",
       "      <td>...</td>\n",
       "      <td>NaN</td>\n",
       "      <td>NaN</td>\n",
       "      <td>NaN</td>\n",
       "      <td>NaN</td>\n",
       "      <td>NaN</td>\n",
       "      <td>NaN</td>\n",
       "      <td>NaN</td>\n",
       "      <td>NaN</td>\n",
       "      <td>NaN</td>\n",
       "      <td>NaN</td>\n",
       "    </tr>\n",
       "    <tr>\n",
       "      <th>1</th>\n",
       "      <td>WEST-1</td>\n",
       "      <td>THANE</td>\n",
       "      <td>TMFL THANE</td>\n",
       "      <td>A15421167663</td>\n",
       "      <td>NaN</td>\n",
       "      <td>18-01-2022</td>\n",
       "      <td>Parveen   Saini</td>\n",
       "      <td>Enquiry</td>\n",
       "      <td>New Lead</td>\n",
       "      <td>NEW_VH</td>\n",
       "      <td>...</td>\n",
       "      <td>NaN</td>\n",
       "      <td>NaN</td>\n",
       "      <td>NaN</td>\n",
       "      <td>NaN</td>\n",
       "      <td>NaN</td>\n",
       "      <td>NaN</td>\n",
       "      <td>NaN</td>\n",
       "      <td>NaN</td>\n",
       "      <td>NaN</td>\n",
       "      <td>NaN</td>\n",
       "    </tr>\n",
       "    <tr>\n",
       "      <th>2</th>\n",
       "      <td>WEST-1</td>\n",
       "      <td>THANE</td>\n",
       "      <td>TMFL THANE</td>\n",
       "      <td>A18121181875</td>\n",
       "      <td>NaN</td>\n",
       "      <td>19-01-2022</td>\n",
       "      <td>ANIL   NA</td>\n",
       "      <td>Enquiry</td>\n",
       "      <td>New Lead</td>\n",
       "      <td>NEW_VH</td>\n",
       "      <td>...</td>\n",
       "      <td>NaN</td>\n",
       "      <td>NaN</td>\n",
       "      <td>NaN</td>\n",
       "      <td>NaN</td>\n",
       "      <td>NaN</td>\n",
       "      <td>NaN</td>\n",
       "      <td>NaN</td>\n",
       "      <td>NaN</td>\n",
       "      <td>NaN</td>\n",
       "      <td>NaN</td>\n",
       "    </tr>\n",
       "    <tr>\n",
       "      <th>3</th>\n",
       "      <td>WEST</td>\n",
       "      <td>NaN</td>\n",
       "      <td>TMFL HEAD OFFICE</td>\n",
       "      <td>A18321182591</td>\n",
       "      <td>NaN</td>\n",
       "      <td>27-01-2022</td>\n",
       "      <td>Kamdev  Kamdev  Adjued</td>\n",
       "      <td>Enquiry</td>\n",
       "      <td>New Lead</td>\n",
       "      <td>NEW_VH</td>\n",
       "      <td>...</td>\n",
       "      <td>NaN</td>\n",
       "      <td>NaN</td>\n",
       "      <td>NaN</td>\n",
       "      <td>NaN</td>\n",
       "      <td>NaN</td>\n",
       "      <td>NaN</td>\n",
       "      <td>NaN</td>\n",
       "      <td>NaN</td>\n",
       "      <td>NaN</td>\n",
       "      <td>NaN</td>\n",
       "    </tr>\n",
       "    <tr>\n",
       "      <th>4</th>\n",
       "      <td>WEST-1</td>\n",
       "      <td>THANE</td>\n",
       "      <td>TMFL THANE</td>\n",
       "      <td>A19121186945</td>\n",
       "      <td>NaN</td>\n",
       "      <td>26-01-2022</td>\n",
       "      <td>Hareram  Kumar</td>\n",
       "      <td>Enquiry</td>\n",
       "      <td>New Lead</td>\n",
       "      <td>USED_VH</td>\n",
       "      <td>...</td>\n",
       "      <td>NaN</td>\n",
       "      <td>NaN</td>\n",
       "      <td>NaN</td>\n",
       "      <td>NaN</td>\n",
       "      <td>NaN</td>\n",
       "      <td>NaN</td>\n",
       "      <td>NaN</td>\n",
       "      <td>NaN</td>\n",
       "      <td>NaN</td>\n",
       "      <td>NaN</td>\n",
       "    </tr>\n",
       "    <tr>\n",
       "      <th>...</th>\n",
       "      <td>...</td>\n",
       "      <td>...</td>\n",
       "      <td>...</td>\n",
       "      <td>...</td>\n",
       "      <td>...</td>\n",
       "      <td>...</td>\n",
       "      <td>...</td>\n",
       "      <td>...</td>\n",
       "      <td>...</td>\n",
       "      <td>...</td>\n",
       "      <td>...</td>\n",
       "      <td>...</td>\n",
       "      <td>...</td>\n",
       "      <td>...</td>\n",
       "      <td>...</td>\n",
       "      <td>...</td>\n",
       "      <td>...</td>\n",
       "      <td>...</td>\n",
       "      <td>...</td>\n",
       "      <td>...</td>\n",
       "      <td>...</td>\n",
       "    </tr>\n",
       "    <tr>\n",
       "      <th>193089</th>\n",
       "      <td>EAST-1</td>\n",
       "      <td>DURGAPUR</td>\n",
       "      <td>TMFSL BERHAMPORE</td>\n",
       "      <td>A33222494842</td>\n",
       "      <td>R33222494842</td>\n",
       "      <td>28-11-2022</td>\n",
       "      <td>Guyuy  Hiihy</td>\n",
       "      <td>Interested</td>\n",
       "      <td>Lead Created</td>\n",
       "      <td>USED_VH</td>\n",
       "      <td>...</td>\n",
       "      <td>NaN</td>\n",
       "      <td>NaN</td>\n",
       "      <td>NaN</td>\n",
       "      <td>NaN</td>\n",
       "      <td>NaN</td>\n",
       "      <td>NaN</td>\n",
       "      <td>NaN</td>\n",
       "      <td>NaN</td>\n",
       "      <td>NaN</td>\n",
       "      <td>NaN</td>\n",
       "    </tr>\n",
       "    <tr>\n",
       "      <th>193090</th>\n",
       "      <td>WEST-1</td>\n",
       "      <td>NANDED</td>\n",
       "      <td>TMFL NANDED</td>\n",
       "      <td>A33322494851</td>\n",
       "      <td>R33322494851</td>\n",
       "      <td>28-11-2022</td>\n",
       "      <td>Gajendra Sakharam Narwade</td>\n",
       "      <td>Quote Generated</td>\n",
       "      <td>Send to CPC</td>\n",
       "      <td>NEW_VH</td>\n",
       "      <td>...</td>\n",
       "      <td>NaN</td>\n",
       "      <td>ACE_INTRA</td>\n",
       "      <td>NaN</td>\n",
       "      <td>NaN</td>\n",
       "      <td>NaN</td>\n",
       "      <td>NaN</td>\n",
       "      <td>NaN</td>\n",
       "      <td>NaN</td>\n",
       "      <td>NaN</td>\n",
       "      <td>NaN</td>\n",
       "    </tr>\n",
       "    <tr>\n",
       "      <th>193091</th>\n",
       "      <td>EAST-2</td>\n",
       "      <td>SAMBALPUR</td>\n",
       "      <td>TMFSL JHARSUGUDA</td>\n",
       "      <td>A33322494880</td>\n",
       "      <td>R33322494880</td>\n",
       "      <td>28-11-2022</td>\n",
       "      <td>Atul Kumar   SingH</td>\n",
       "      <td>Lead Created</td>\n",
       "      <td>Data Entry</td>\n",
       "      <td>USED_VH</td>\n",
       "      <td>...</td>\n",
       "      <td>NaN</td>\n",
       "      <td>NaN</td>\n",
       "      <td>NaN</td>\n",
       "      <td>NaN</td>\n",
       "      <td>NaN</td>\n",
       "      <td>NaN</td>\n",
       "      <td>NaN</td>\n",
       "      <td>NaN</td>\n",
       "      <td>NaN</td>\n",
       "      <td>NaN</td>\n",
       "    </tr>\n",
       "    <tr>\n",
       "      <th>193092</th>\n",
       "      <td>SOUTH-1</td>\n",
       "      <td>VIJAYAWADA</td>\n",
       "      <td>TMFSL VIJAYAWADA</td>\n",
       "      <td>A33322494888</td>\n",
       "      <td>R33322494888</td>\n",
       "      <td>28-11-2022</td>\n",
       "      <td>MurugudU  VenkatagopikrishnA</td>\n",
       "      <td>Quote Generated</td>\n",
       "      <td>Send to CPC</td>\n",
       "      <td>USED_VH</td>\n",
       "      <td>...</td>\n",
       "      <td>NaN</td>\n",
       "      <td>UV_REPUR</td>\n",
       "      <td>NaN</td>\n",
       "      <td>NaN</td>\n",
       "      <td>NaN</td>\n",
       "      <td>NaN</td>\n",
       "      <td>NaN</td>\n",
       "      <td>NaN</td>\n",
       "      <td>NaN</td>\n",
       "      <td>NaN</td>\n",
       "    </tr>\n",
       "    <tr>\n",
       "      <th>193093</th>\n",
       "      <td>NORTH-2</td>\n",
       "      <td>ALWAR</td>\n",
       "      <td>TMFSL ALWAR</td>\n",
       "      <td>A33322494892</td>\n",
       "      <td>R33322494892</td>\n",
       "      <td>28-11-2022</td>\n",
       "      <td>RajjaK  HasankhaN</td>\n",
       "      <td>Lead Created</td>\n",
       "      <td>Data Entry</td>\n",
       "      <td>USED_VH</td>\n",
       "      <td>...</td>\n",
       "      <td>NaN</td>\n",
       "      <td>UV_REPUR</td>\n",
       "      <td>NaN</td>\n",
       "      <td>NaN</td>\n",
       "      <td>NaN</td>\n",
       "      <td>NaN</td>\n",
       "      <td>NaN</td>\n",
       "      <td>NaN</td>\n",
       "      <td>NaN</td>\n",
       "      <td>NaN</td>\n",
       "    </tr>\n",
       "  </tbody>\n",
       "</table>\n",
       "<p>193094 rows × 104 columns</p>\n",
       "</div>"
      ],
      "text/plain": [
       "         Region        Zone       Branch Name      Leads Id        Ref ID  \\\n",
       "0        WEST-1       THANE        TMFL THANE  A11821160656           NaN   \n",
       "1        WEST-1       THANE        TMFL THANE  A15421167663           NaN   \n",
       "2        WEST-1       THANE        TMFL THANE  A18121181875           NaN   \n",
       "3          WEST         NaN  TMFL HEAD OFFICE  A18321182591           NaN   \n",
       "4        WEST-1       THANE        TMFL THANE  A19121186945           NaN   \n",
       "...         ...         ...               ...           ...           ...   \n",
       "193089   EAST-1    DURGAPUR  TMFSL BERHAMPORE  A33222494842  R33222494842   \n",
       "193090   WEST-1      NANDED       TMFL NANDED  A33322494851  R33322494851   \n",
       "193091   EAST-2   SAMBALPUR  TMFSL JHARSUGUDA  A33322494880  R33322494880   \n",
       "193092  SOUTH-1  VIJAYAWADA  TMFSL VIJAYAWADA  A33322494888  R33322494888   \n",
       "193093  NORTH-2       ALWAR       TMFSL ALWAR  A33322494892  R33322494892   \n",
       "\n",
       "        Login Date                                 Customer Name  \\\n",
       "0       13-01-2022   ARAVIND KUMAR SINGH ARAVIND KUMAR SINGH XxX   \n",
       "1       18-01-2022                               Parveen   Saini   \n",
       "2       19-01-2022                                     ANIL   NA   \n",
       "3       27-01-2022                        Kamdev  Kamdev  Adjued   \n",
       "4       26-01-2022                                Hareram  Kumar   \n",
       "...            ...                                           ...   \n",
       "193089  28-11-2022                                  Guyuy  Hiihy   \n",
       "193090  28-11-2022                     Gajendra Sakharam Narwade   \n",
       "193091  28-11-2022                            Atul Kumar   SingH   \n",
       "193092  28-11-2022                  MurugudU  VenkatagopikrishnA   \n",
       "193093  28-11-2022                             RajjaK  HasankhaN   \n",
       "\n",
       "       Application Stage  Application Status  Product  ... CONNO  \\\n",
       "0                Enquiry            New Lead  USED_VH  ...   NaN   \n",
       "1                Enquiry            New Lead   NEW_VH  ...   NaN   \n",
       "2                Enquiry            New Lead   NEW_VH  ...   NaN   \n",
       "3                Enquiry            New Lead   NEW_VH  ...   NaN   \n",
       "4                Enquiry            New Lead  USED_VH  ...   NaN   \n",
       "...                  ...                 ...      ...  ...   ...   \n",
       "193089        Interested        Lead Created  USED_VH  ...   NaN   \n",
       "193090   Quote Generated         Send to CPC   NEW_VH  ...   NaN   \n",
       "193091      Lead Created          Data Entry  USED_VH  ...   NaN   \n",
       "193092   Quote Generated         Send to CPC  USED_VH  ...   NaN   \n",
       "193093      Lead Created          Data Entry  USED_VH  ...   NaN   \n",
       "\n",
       "       SCORECARD_NAME Band   PD  SCORECARD_PD   FIN_AMOUNT  Contract No  \\\n",
       "0                 NaN  NaN  NaN            NaN         NaN          NaN   \n",
       "1                 NaN  NaN  NaN            NaN         NaN          NaN   \n",
       "2                 NaN  NaN  NaN            NaN         NaN          NaN   \n",
       "3                 NaN  NaN  NaN            NaN         NaN          NaN   \n",
       "4                 NaN  NaN  NaN            NaN         NaN          NaN   \n",
       "...               ...  ...  ...            ...         ...          ...   \n",
       "193089            NaN  NaN  NaN            NaN         NaN          NaN   \n",
       "193090      ACE_INTRA  NaN  NaN            NaN         NaN          NaN   \n",
       "193091            NaN  NaN  NaN            NaN         NaN          NaN   \n",
       "193092       UV_REPUR  NaN  NaN            NaN         NaN          NaN   \n",
       "193093       UV_REPUR  NaN  NaN            NaN         NaN          NaN   \n",
       "\n",
       "        Finance Amount CO IRR LTV  \n",
       "0                  NaN    NaN NaN  \n",
       "1                  NaN    NaN NaN  \n",
       "2                  NaN    NaN NaN  \n",
       "3                  NaN    NaN NaN  \n",
       "4                  NaN    NaN NaN  \n",
       "...                ...    ...  ..  \n",
       "193089             NaN    NaN NaN  \n",
       "193090             NaN    NaN NaN  \n",
       "193091             NaN    NaN NaN  \n",
       "193092             NaN    NaN NaN  \n",
       "193093             NaN    NaN NaN  \n",
       "\n",
       "[193094 rows x 104 columns]"
      ]
     },
     "execution_count": 9,
     "metadata": {},
     "output_type": "execute_result"
    }
   ],
   "source": [
    "new_data"
   ]
  },
  {
   "cell_type": "code",
   "execution_count": 11,
   "id": "69cb0c76",
   "metadata": {},
   "outputs": [
    {
     "data": {
      "text/html": [
       "<div>\n",
       "<style scoped>\n",
       "    .dataframe tbody tr th:only-of-type {\n",
       "        vertical-align: middle;\n",
       "    }\n",
       "\n",
       "    .dataframe tbody tr th {\n",
       "        vertical-align: top;\n",
       "    }\n",
       "\n",
       "    .dataframe thead th {\n",
       "        text-align: right;\n",
       "    }\n",
       "</style>\n",
       "<table border=\"1\" class=\"dataframe\">\n",
       "  <thead>\n",
       "    <tr style=\"text-align: right;\">\n",
       "      <th></th>\n",
       "      <th>CONNO</th>\n",
       "      <th>Contract No</th>\n",
       "    </tr>\n",
       "  </thead>\n",
       "  <tbody>\n",
       "    <tr>\n",
       "      <th>0</th>\n",
       "      <td>NaN</td>\n",
       "      <td>NaN</td>\n",
       "    </tr>\n",
       "    <tr>\n",
       "      <th>1</th>\n",
       "      <td>NaN</td>\n",
       "      <td>NaN</td>\n",
       "    </tr>\n",
       "    <tr>\n",
       "      <th>2</th>\n",
       "      <td>NaN</td>\n",
       "      <td>NaN</td>\n",
       "    </tr>\n",
       "    <tr>\n",
       "      <th>3</th>\n",
       "      <td>NaN</td>\n",
       "      <td>NaN</td>\n",
       "    </tr>\n",
       "    <tr>\n",
       "      <th>4</th>\n",
       "      <td>NaN</td>\n",
       "      <td>NaN</td>\n",
       "    </tr>\n",
       "    <tr>\n",
       "      <th>...</th>\n",
       "      <td>...</td>\n",
       "      <td>...</td>\n",
       "    </tr>\n",
       "    <tr>\n",
       "      <th>193089</th>\n",
       "      <td>NaN</td>\n",
       "      <td>NaN</td>\n",
       "    </tr>\n",
       "    <tr>\n",
       "      <th>193090</th>\n",
       "      <td>NaN</td>\n",
       "      <td>NaN</td>\n",
       "    </tr>\n",
       "    <tr>\n",
       "      <th>193091</th>\n",
       "      <td>NaN</td>\n",
       "      <td>NaN</td>\n",
       "    </tr>\n",
       "    <tr>\n",
       "      <th>193092</th>\n",
       "      <td>NaN</td>\n",
       "      <td>NaN</td>\n",
       "    </tr>\n",
       "    <tr>\n",
       "      <th>193093</th>\n",
       "      <td>NaN</td>\n",
       "      <td>NaN</td>\n",
       "    </tr>\n",
       "  </tbody>\n",
       "</table>\n",
       "<p>193094 rows × 2 columns</p>\n",
       "</div>"
      ],
      "text/plain": [
       "        CONNO  Contract No\n",
       "0         NaN          NaN\n",
       "1         NaN          NaN\n",
       "2         NaN          NaN\n",
       "3         NaN          NaN\n",
       "4         NaN          NaN\n",
       "...       ...          ...\n",
       "193089    NaN          NaN\n",
       "193090    NaN          NaN\n",
       "193091    NaN          NaN\n",
       "193092    NaN          NaN\n",
       "193093    NaN          NaN\n",
       "\n",
       "[193094 rows x 2 columns]"
      ]
     },
     "execution_count": 11,
     "metadata": {},
     "output_type": "execute_result"
    }
   ],
   "source": [
    "new_data[['CONNO','Contract No']]"
   ]
  },
  {
   "cell_type": "code",
   "execution_count": 16,
   "id": "62621d94",
   "metadata": {},
   "outputs": [],
   "source": [
    "new_data.to_csv(r\"D:\\PD_MAPPING\\Whole_data\\Whole_data_with_Nov_LTV_IRR.csv\",index=False)"
   ]
  },
  {
   "cell_type": "code",
   "execution_count": null,
   "id": "f47b61f0",
   "metadata": {},
   "outputs": [],
   "source": [
    "# new_data=whole_data.merge(RO_File[['Contract No','Finance Amount']],,how='left',left_on='Ref ID', right_on='FAN #')"
   ]
  }
 ],
 "metadata": {
  "kernelspec": {
   "display_name": "Python 3 (ipykernel)",
   "language": "python",
   "name": "python3"
  },
  "language_info": {
   "codemirror_mode": {
    "name": "ipython",
    "version": 3
   },
   "file_extension": ".py",
   "mimetype": "text/x-python",
   "name": "python",
   "nbconvert_exporter": "python",
   "pygments_lexer": "ipython3",
   "version": "3.9.12"
  }
 },
 "nbformat": 4,
 "nbformat_minor": 5
}
